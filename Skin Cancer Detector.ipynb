{
  "nbformat": 4,
  "nbformat_minor": 0,
  "metadata": {
    "colab": {
      "name": "SkinLesion1.ipynb",
      "provenance": [],
      "collapsed_sections": []
    },
    "kernelspec": {
      "name": "python3",
      "display_name": "Python 3"
    },
    "language_info": {
      "name": "python"
    },
    "accelerator": "GPU"
  },
  "cells": [
    {
      "cell_type": "code",
      "metadata": {
        "colab": {
          "base_uri": "https://localhost:8080/"
        },
        "id": "jsXhTQtIBOJq",
        "outputId": "dd388d0f-7f36-49a9-800f-92312db63feb"
      },
      "source": [
        "from google.colab import drive\n",
        "drive.mount('/content/drive/')"
      ],
      "execution_count": 1,
      "outputs": [
        {
          "output_type": "stream",
          "name": "stdout",
          "text": [
            "Mounted at /content/drive/\n"
          ]
        }
      ]
    },
    {
      "cell_type": "code",
      "metadata": {
        "id": "7LQWlyQ1MYx6"
      },
      "source": [
        "import os\n",
        "import numpy as np\n",
        "import pandas as pd \n",
        "# import torch\n",
        "# from random import randint\n",
        "# from torchvision import transforms, models\n",
        "# from torchvision.datasets import ImageFolder\n",
        "# from torch.utils.data import DataLoader, random_split\n",
        "# from torch import nn\n",
        "# from torch import optim\n",
        "# import time\n",
        "# from fastai.vision import *\n",
        "import tensorflow as tf\n",
        "from sklearn.model_selection import train_test_split\n",
        "from keras.preprocessing.image import ImageDataGenerator"
      ],
      "execution_count": 2,
      "outputs": []
    },
    {
      "cell_type": "code",
      "metadata": {
        "colab": {
          "base_uri": "https://localhost:8080/",
          "height": 206
        },
        "id": "FoimGh9_tI5n",
        "outputId": "a92e0273-c46e-4a7f-d943-7bf1cb3e07f6"
      },
      "source": [
        "metadata = pd.read_csv('/content/drive/My Drive/TEES/Trabalho/HAM10000_metadata')\n",
        "metadata.head()"
      ],
      "execution_count": 3,
      "outputs": [
        {
          "output_type": "execute_result",
          "data": {
            "text/html": [
              "<div>\n",
              "<style scoped>\n",
              "    .dataframe tbody tr th:only-of-type {\n",
              "        vertical-align: middle;\n",
              "    }\n",
              "\n",
              "    .dataframe tbody tr th {\n",
              "        vertical-align: top;\n",
              "    }\n",
              "\n",
              "    .dataframe thead th {\n",
              "        text-align: right;\n",
              "    }\n",
              "</style>\n",
              "<table border=\"1\" class=\"dataframe\">\n",
              "  <thead>\n",
              "    <tr style=\"text-align: right;\">\n",
              "      <th></th>\n",
              "      <th>lesion_id</th>\n",
              "      <th>image_id</th>\n",
              "      <th>dx</th>\n",
              "      <th>dx_type</th>\n",
              "      <th>age</th>\n",
              "      <th>sex</th>\n",
              "      <th>localization</th>\n",
              "      <th>dataset</th>\n",
              "    </tr>\n",
              "  </thead>\n",
              "  <tbody>\n",
              "    <tr>\n",
              "      <th>0</th>\n",
              "      <td>HAM_0000118</td>\n",
              "      <td>ISIC_0027419</td>\n",
              "      <td>bkl</td>\n",
              "      <td>histo</td>\n",
              "      <td>80.0</td>\n",
              "      <td>male</td>\n",
              "      <td>scalp</td>\n",
              "      <td>vidir_modern</td>\n",
              "    </tr>\n",
              "    <tr>\n",
              "      <th>1</th>\n",
              "      <td>HAM_0000118</td>\n",
              "      <td>ISIC_0025030</td>\n",
              "      <td>bkl</td>\n",
              "      <td>histo</td>\n",
              "      <td>80.0</td>\n",
              "      <td>male</td>\n",
              "      <td>scalp</td>\n",
              "      <td>vidir_modern</td>\n",
              "    </tr>\n",
              "    <tr>\n",
              "      <th>2</th>\n",
              "      <td>HAM_0002730</td>\n",
              "      <td>ISIC_0026769</td>\n",
              "      <td>bkl</td>\n",
              "      <td>histo</td>\n",
              "      <td>80.0</td>\n",
              "      <td>male</td>\n",
              "      <td>scalp</td>\n",
              "      <td>vidir_modern</td>\n",
              "    </tr>\n",
              "    <tr>\n",
              "      <th>3</th>\n",
              "      <td>HAM_0002730</td>\n",
              "      <td>ISIC_0025661</td>\n",
              "      <td>bkl</td>\n",
              "      <td>histo</td>\n",
              "      <td>80.0</td>\n",
              "      <td>male</td>\n",
              "      <td>scalp</td>\n",
              "      <td>vidir_modern</td>\n",
              "    </tr>\n",
              "    <tr>\n",
              "      <th>4</th>\n",
              "      <td>HAM_0001466</td>\n",
              "      <td>ISIC_0031633</td>\n",
              "      <td>bkl</td>\n",
              "      <td>histo</td>\n",
              "      <td>75.0</td>\n",
              "      <td>male</td>\n",
              "      <td>ear</td>\n",
              "      <td>vidir_modern</td>\n",
              "    </tr>\n",
              "  </tbody>\n",
              "</table>\n",
              "</div>"
            ],
            "text/plain": [
              "     lesion_id      image_id   dx  ...   sex  localization       dataset\n",
              "0  HAM_0000118  ISIC_0027419  bkl  ...  male         scalp  vidir_modern\n",
              "1  HAM_0000118  ISIC_0025030  bkl  ...  male         scalp  vidir_modern\n",
              "2  HAM_0002730  ISIC_0026769  bkl  ...  male         scalp  vidir_modern\n",
              "3  HAM_0002730  ISIC_0025661  bkl  ...  male         scalp  vidir_modern\n",
              "4  HAM_0001466  ISIC_0031633  bkl  ...  male           ear  vidir_modern\n",
              "\n",
              "[5 rows x 8 columns]"
            ]
          },
          "metadata": {},
          "execution_count": 3
        }
      ]
    },
    {
      "cell_type": "code",
      "metadata": {
        "id": "UjpplPRytitT"
      },
      "source": [
        "# Gathering the test dataset images, fragmented for it's size, in a single folder.\n",
        "# It's not necessary to run this cell again\n",
        "old_path1 = '/content/drive/My Drive/TEES/Trabalho/HAM10000_part_2/'\n",
        "new_path1 = '/content/drive/My Drive/TEES/Trabalho/HAM10000_part_1/'\n",
        "archives = os.listdir(old_path1)\n",
        "for i in archives:\n",
        "  os.replace((old_path1+i), (new_path1+i))"
      ],
      "execution_count": null,
      "outputs": []
    },
    {
      "cell_type": "code",
      "metadata": {
        "colab": {
          "base_uri": "https://localhost:8080/"
        },
        "id": "RMxBpZMODRnd",
        "outputId": "7bd23d0b-fe34-41b6-878b-cfe53b74cab2"
      },
      "source": [
        "# Number of images in the folders\n",
        "print(len(os.listdir(old_path1)))\n",
        "print(len(os.listdir(new_path1))) "
      ],
      "execution_count": null,
      "outputs": [
        {
          "output_type": "stream",
          "name": "stdout",
          "text": [
            "0\n",
            "10015\n"
          ]
        }
      ]
    },
    {
      "cell_type": "code",
      "metadata": {
        "id": "SZtA7a3atX3j"
      },
      "source": [
        "# Organizing the images in folders representing their classes\n",
        "# It's not necessary to run this cell again\n",
        "\n",
        "old_path_2 = '/content/drive/My Drive/TEES/Trabalho/HAM10000_part_1/'\n",
        "new_path_2 = '/content/drive/My Drive/TEES/Trabalho/dataset/'\n",
        "\n",
        "for i in range(0, len(metadata)):\n",
        "  os.replace(old_path_2+metadata.image_id[i]+'.jpg', new_path_2+metadata.dx[i]+\"/\"+metadata.image_id[i]+'.jpg')"
      ],
      "execution_count": null,
      "outputs": []
    },
    {
      "cell_type": "code",
      "metadata": {
        "id": "LwmZ_sAavdam",
        "colab": {
          "base_uri": "https://localhost:8080/"
        },
        "outputId": "7134df37-7100-4600-9832-8eba68b48c2e"
      },
      "source": [
        "print(len(os.listdir(old_path_2)))\n",
        "print(len(os.listdir(new_path_2+'akiec')))\n",
        "print(len(os.listdir(new_path_2+'bcc')))\n",
        "print(len(os.listdir(new_path_2+'bkl')))\n",
        "print(len(os.listdir(new_path_2+'df')))\n",
        "print(len(os.listdir(new_path_2+'mel')))\n",
        "print(len(os.listdir(new_path_2+'nv')))\n",
        "print(len(os.listdir(new_path_2+'vasc')))"
      ],
      "execution_count": null,
      "outputs": [
        {
          "output_type": "stream",
          "name": "stdout",
          "text": [
            "0\n",
            "327\n",
            "514\n",
            "1099\n",
            "115\n",
            "1113\n",
            "6721\n",
            "142\n"
          ]
        }
      ]
    },
    {
      "cell_type": "code",
      "metadata": {
        "colab": {
          "base_uri": "https://localhost:8080/",
          "height": 206
        },
        "id": "EK2qliARv2Ee",
        "outputId": "24694f68-5a67-4bb5-97fb-f261fe3bd4fc"
      },
      "source": [
        "metadata_validation = pd.read_csv('/content/drive/My Drive/TEES/Trabalho/metadata_validation.csv')\n",
        "metadata_validation.head()"
      ],
      "execution_count": 4,
      "outputs": [
        {
          "output_type": "execute_result",
          "data": {
            "text/html": [
              "<div>\n",
              "<style scoped>\n",
              "    .dataframe tbody tr th:only-of-type {\n",
              "        vertical-align: middle;\n",
              "    }\n",
              "\n",
              "    .dataframe tbody tr th {\n",
              "        vertical-align: top;\n",
              "    }\n",
              "\n",
              "    .dataframe thead th {\n",
              "        text-align: right;\n",
              "    }\n",
              "</style>\n",
              "<table border=\"1\" class=\"dataframe\">\n",
              "  <thead>\n",
              "    <tr style=\"text-align: right;\">\n",
              "      <th></th>\n",
              "      <th>image</th>\n",
              "      <th>MEL</th>\n",
              "      <th>NV</th>\n",
              "      <th>BCC</th>\n",
              "      <th>AKIEC</th>\n",
              "      <th>BKL</th>\n",
              "      <th>DF</th>\n",
              "      <th>VASC</th>\n",
              "    </tr>\n",
              "  </thead>\n",
              "  <tbody>\n",
              "    <tr>\n",
              "      <th>0</th>\n",
              "      <td>ISIC_0034321</td>\n",
              "      <td>0.0</td>\n",
              "      <td>1.0</td>\n",
              "      <td>0.0</td>\n",
              "      <td>0.0</td>\n",
              "      <td>0.0</td>\n",
              "      <td>0.0</td>\n",
              "      <td>0.0</td>\n",
              "    </tr>\n",
              "    <tr>\n",
              "      <th>1</th>\n",
              "      <td>ISIC_0034322</td>\n",
              "      <td>0.0</td>\n",
              "      <td>1.0</td>\n",
              "      <td>0.0</td>\n",
              "      <td>0.0</td>\n",
              "      <td>0.0</td>\n",
              "      <td>0.0</td>\n",
              "      <td>0.0</td>\n",
              "    </tr>\n",
              "    <tr>\n",
              "      <th>2</th>\n",
              "      <td>ISIC_0034323</td>\n",
              "      <td>0.0</td>\n",
              "      <td>0.0</td>\n",
              "      <td>1.0</td>\n",
              "      <td>0.0</td>\n",
              "      <td>0.0</td>\n",
              "      <td>0.0</td>\n",
              "      <td>0.0</td>\n",
              "    </tr>\n",
              "    <tr>\n",
              "      <th>3</th>\n",
              "      <td>ISIC_0034324</td>\n",
              "      <td>0.0</td>\n",
              "      <td>1.0</td>\n",
              "      <td>0.0</td>\n",
              "      <td>0.0</td>\n",
              "      <td>0.0</td>\n",
              "      <td>0.0</td>\n",
              "      <td>0.0</td>\n",
              "    </tr>\n",
              "    <tr>\n",
              "      <th>4</th>\n",
              "      <td>ISIC_0034325</td>\n",
              "      <td>0.0</td>\n",
              "      <td>1.0</td>\n",
              "      <td>0.0</td>\n",
              "      <td>0.0</td>\n",
              "      <td>0.0</td>\n",
              "      <td>0.0</td>\n",
              "      <td>0.0</td>\n",
              "    </tr>\n",
              "  </tbody>\n",
              "</table>\n",
              "</div>"
            ],
            "text/plain": [
              "          image  MEL   NV  BCC  AKIEC  BKL   DF  VASC\n",
              "0  ISIC_0034321  0.0  1.0  0.0    0.0  0.0  0.0   0.0\n",
              "1  ISIC_0034322  0.0  1.0  0.0    0.0  0.0  0.0   0.0\n",
              "2  ISIC_0034323  0.0  0.0  1.0    0.0  0.0  0.0   0.0\n",
              "3  ISIC_0034324  0.0  1.0  0.0    0.0  0.0  0.0   0.0\n",
              "4  ISIC_0034325  0.0  1.0  0.0    0.0  0.0  0.0   0.0"
            ]
          },
          "metadata": {},
          "execution_count": 4
        }
      ]
    },
    {
      "cell_type": "code",
      "metadata": {
        "id": "RenJ3WLox3FA"
      },
      "source": [
        "# Now organizing the validation dataset\n",
        "#It's not necessary to run this cell again\n",
        "path3 = '/content/drive/My Drive/TEES/Trabalho/dataset_validation/'\n",
        "\n",
        "for i in range(1, len(metadata_validation)):\n",
        "  if metadata_validation.MEL[i] == 1.0:\n",
        "    os.replace((path3+metadata_validation.image[i]+'.jpg'), path3+'mel/'+metadata_validation.image[i]+'.jpg')\n",
        "  elif metadata_validation.NV[i] == 1.0:\n",
        "    os.replace((path3+metadata_validation.image[i]+'.jpg'), path3+'nv/'+metadata_validation.image[i]+'.jpg')\n",
        "  elif metadata_validation.BCC[i] == 1.0:\n",
        "    os.replace((path3+metadata_validation.image[i]+'.jpg'), path3+'bcc/'+metadata_validation.image[i]+'.jpg')\n",
        "  elif metadata_validation.AKIEC[i] == 1.0:\n",
        "    os.replace((path3+metadata_validation.image[i]+'.jpg'), path3+'akiec/'+metadata_validation.image[i]+'.jpg')\n",
        "  elif metadata_validation.BKL[i] == 1.0:\n",
        "    os.replace((path3+metadata_validation.image[i]+'.jpg'), path3+'bkl/'+metadata_validation.image[i]+'.jpg')\n",
        "  elif metadata_validation.DF[i] == 1.0:\n",
        "    os.replace((path3+metadata_validation.image[i]+'.jpg'), path3+'df/'+metadata_validation.image[i]+'.jpg')\n",
        "  elif metadata_validation.VASC[i] == 1.0:\n",
        "    os.replace((path3+metadata_validation.image[i]+'.jpg'), path3+'vasc/'+metadata_validation.image[i]+'.jpg')"
      ],
      "execution_count": 32,
      "outputs": []
    },
    {
      "cell_type": "code",
      "metadata": {
        "colab": {
          "base_uri": "https://localhost:8080/"
        },
        "id": "-An6QUUB-9cl",
        "outputId": "75371921-7b6c-48e1-cd9b-2da6e95416df"
      },
      "source": [
        "print(len(os.listdir(path3+'akiec')))\n",
        "print(len(os.listdir(path3+'bcc')))\n",
        "print(len(os.listdir(path3+'bcc')))\n",
        "print(len(os.listdir(path3+'df')))\n",
        "print(len(os.listdir(path3+'mel')))\n",
        "print(len(os.listdir(path3+'nv')))\n",
        "print(len(os.listdir(path3+'vasc')))"
      ],
      "execution_count": 33,
      "outputs": [
        {
          "output_type": "stream",
          "name": "stdout",
          "text": [
            "8\n",
            "15\n",
            "22\n",
            "1\n",
            "22\n",
            "122\n",
            "3\n"
          ]
        }
      ]
    },
    {
      "cell_type": "code",
      "metadata": {
        "colab": {
          "base_uri": "https://localhost:8080/"
        },
        "id": "ISj9G2wGNY3v",
        "outputId": "2de7d6ee-c7de-440f-f5bc-9f1972971908"
      },
      "source": [
        "# def testar_gpu():\n",
        "# \ttrain_on_gpu = torch.cuda.is_available() #Observa se a GPU está disponivel\n",
        "# \tif train_on_gpu: #Se sim\n",
        "# \t\tdevice = torch.device('cuda') #Seleciona o device como GPU\n",
        "# \t\tprint(\"Treinando na GPU\") #E manda a mensagem\n",
        "# \telse: #Se não\n",
        "# \t\tdevice = torch.device('cpu') #Seleciona o device como cpu\n",
        "# \t\tprint(\"GPU indisponível, treinando na CPU\") #E avisa que a GPU não esta disponível\n",
        "# \treturn device\n",
        "\n",
        "# device = testar_gpu()"
      ],
      "execution_count": null,
      "outputs": [
        {
          "output_type": "stream",
          "name": "stdout",
          "text": [
            "Treinando na GPU\n"
          ]
        }
      ]
    },
    {
      "cell_type": "code",
      "metadata": {
        "colab": {
          "base_uri": "https://localhost:8080/"
        },
        "id": "-tpIZk4hNi2Q",
        "outputId": "05fc3a67-dbbb-4cef-c94f-e9c459272acf"
      },
      "source": [
        "# transform = transforms.Compose([\n",
        "#                                 transforms.RandomHorizontalFlip(),\n",
        "#                                 transforms.RandomRotation(10),\n",
        "#                                 transforms.Resize((255, 255)),\n",
        "#                                 transforms.ToTensor(),\n",
        "#                                 transforms.Normalize((0.5, 0.5, 0.5), (0.5, 0.5, 0.5))\n",
        "#                               ])\n",
        "# data = ImageFolder('/content/drive/My Drive/TEES/Trabalho/dataset/', transform=transform)\n",
        "# print('Total de imagens no dataset: ', len(data))"
      ],
      "execution_count": null,
      "outputs": [
        {
          "output_type": "stream",
          "name": "stdout",
          "text": [
            "Total de imagens no dataset:  10015\n"
          ]
        }
      ]
    },
    {
      "cell_type": "code",
      "metadata": {
        "colab": {
          "base_uri": "https://localhost:8080/"
        },
        "id": "dhfgG3j2k2_S",
        "outputId": "bfc22470-810c-46b3-b2da-35e0b0222873"
      },
      "source": [
        "datagen = ImageDataGenerator(rescale = 1./255,\n",
        "                                   shear_range = 0.2,\n",
        "                                   zoom_range = 0.2,\n",
        "                                   horizontal_flip = True)\n",
        "data = datagen.flow_from_directory('/content/drive/My Drive/TEES/Trabalho/dataset/',\n",
        "                                                 target_size = (255, 255),\n",
        "                                                 batch_size = 32,\n",
        "                                                 class_mode = 'categorical')\n",
        "\n",
        "data_val = datagen.flow_from_directory('/content/drive/My Drive/TEES/Trabalho/dataset_validation/',\n",
        "                                                 target_size = (255, 255),\n",
        "                                                 batch_size = 32,\n",
        "                                                 class_mode = 'categorical')\n"
      ],
      "execution_count": 5,
      "outputs": [
        {
          "output_type": "stream",
          "name": "stdout",
          "text": [
            "Found 10031 images belonging to 7 classes.\n",
            "Found 193 images belonging to 7 classes.\n"
          ]
        }
      ]
    },
    {
      "cell_type": "code",
      "metadata": {
        "colab": {
          "base_uri": "https://localhost:8080/",
          "height": 178
        },
        "id": "_tPL0Y4l5Yc9",
        "outputId": "4ca5e3e7-9302-44d0-eca2-ca1e06bc72c8"
      },
      "source": [
        "# dataVis = ImageList.from_folder('/content/drive/My Drive/TEES/Trabalho/dataset/')\n",
        "# dataVis.open(dataVis.items[randint(0,len(dataVis))])"
      ],
      "execution_count": null,
      "outputs": [
        {
          "output_type": "error",
          "ename": "NameError",
          "evalue": "ignored",
          "traceback": [
            "\u001b[0;31m---------------------------------------------------------------------------\u001b[0m",
            "\u001b[0;31mNameError\u001b[0m                                 Traceback (most recent call last)",
            "\u001b[0;32m<ipython-input-8-2b2ba26f8585>\u001b[0m in \u001b[0;36m<module>\u001b[0;34m()\u001b[0m\n\u001b[0;32m----> 1\u001b[0;31m \u001b[0mdataVis\u001b[0m \u001b[0;34m=\u001b[0m \u001b[0mImageList\u001b[0m\u001b[0;34m.\u001b[0m\u001b[0mfrom_folder\u001b[0m\u001b[0;34m(\u001b[0m\u001b[0;34m'/content/drive/My Drive/TEES/Trabalho/dataset/'\u001b[0m\u001b[0;34m)\u001b[0m\u001b[0;34m\u001b[0m\u001b[0;34m\u001b[0m\u001b[0m\n\u001b[0m\u001b[1;32m      2\u001b[0m \u001b[0mdataVis\u001b[0m\u001b[0;34m.\u001b[0m\u001b[0mopen\u001b[0m\u001b[0;34m(\u001b[0m\u001b[0mdataVis\u001b[0m\u001b[0;34m.\u001b[0m\u001b[0mitems\u001b[0m\u001b[0;34m[\u001b[0m\u001b[0mrandint\u001b[0m\u001b[0;34m(\u001b[0m\u001b[0;36m0\u001b[0m\u001b[0;34m,\u001b[0m\u001b[0mlen\u001b[0m\u001b[0;34m(\u001b[0m\u001b[0mdataVis\u001b[0m\u001b[0;34m)\u001b[0m\u001b[0;34m)\u001b[0m\u001b[0;34m]\u001b[0m\u001b[0;34m)\u001b[0m\u001b[0;34m\u001b[0m\u001b[0;34m\u001b[0m\u001b[0m\n",
            "\u001b[0;31mNameError\u001b[0m: name 'ImageList' is not defined"
          ]
        }
      ]
    },
    {
      "cell_type": "code",
      "metadata": {
        "id": "Bu14wRL1pl4-"
      },
      "source": [
        "# import warnings\n",
        "# warnings.filterwarnings('ignore')"
      ],
      "execution_count": null,
      "outputs": []
    },
    {
      "cell_type": "code",
      "metadata": {
        "id": "jOun-DZljqoK"
      },
      "source": [
        "# labels = ['akiec', 'bcc', 'bkl', 'df', 'mel', 'nv', 'vasc']\n",
        "# for i in range (0, len(metadata.dx)):\n",
        "#   if metadata.dx[i] == 'akiec':\n",
        "#     metadata.dx[i] = 0\n",
        "#   elif metadata.dx[i] == 'bcc':\n",
        "#     metadata.dx[i] = 1\n",
        "#   elif metadata.dx[i] == 'bkl':\n",
        "#     metadata.dx[i] = 2\n",
        "#   elif metadata.dx[i] == 'df':\n",
        "#     metadata.dx[i] = 3\n",
        "#   elif metadata.dx[i] == 'mel':\n",
        "#     metadata.dx[i] = 4\n",
        "#   elif metadata.dx[i] == 'nv':\n",
        "#     metadata.dx[i] = 5\n",
        "#   elif metadata.dx[i] == 'vasc':\n",
        "#     metadata.dx[i] = 6\n"
      ],
      "execution_count": null,
      "outputs": []
    },
    {
      "cell_type": "code",
      "metadata": {
        "colab": {
          "base_uri": "https://localhost:8080/",
          "height": 229
        },
        "id": "Qe9jE1gGtTYV",
        "outputId": "da1edfb3-297c-44ef-cc48-490978bfba49"
      },
      "source": [
        "# # y = metadata.dx.to_numpy(dtype = int)\n",
        "# X_train, X_test, y_train, y_test = train_test_split(data, test_size = 0.3, random_state = 0)\n",
        "\n",
        "# print('Total de imagens no dataset de treino:', len(X_train))\n",
        "# print('Total de imagens no dataset de teste:', len(X_test))"
      ],
      "execution_count": null,
      "outputs": [
        {
          "output_type": "error",
          "ename": "ValueError",
          "evalue": "ignored",
          "traceback": [
            "\u001b[0;31m---------------------------------------------------------------------------\u001b[0m",
            "\u001b[0;31mValueError\u001b[0m                                Traceback (most recent call last)",
            "\u001b[0;32m<ipython-input-13-2f3d4e656428>\u001b[0m in \u001b[0;36m<module>\u001b[0;34m()\u001b[0m\n\u001b[1;32m      1\u001b[0m \u001b[0;31m# y = metadata.dx.to_numpy(dtype = int)\u001b[0m\u001b[0;34m\u001b[0m\u001b[0;34m\u001b[0m\u001b[0;34m\u001b[0m\u001b[0m\n\u001b[0;32m----> 2\u001b[0;31m \u001b[0mX_train\u001b[0m\u001b[0;34m,\u001b[0m \u001b[0mX_test\u001b[0m\u001b[0;34m,\u001b[0m \u001b[0my_train\u001b[0m\u001b[0;34m,\u001b[0m \u001b[0my_test\u001b[0m \u001b[0;34m=\u001b[0m \u001b[0mtrain_test_split\u001b[0m\u001b[0;34m(\u001b[0m\u001b[0mdata\u001b[0m\u001b[0;34m,\u001b[0m \u001b[0mtest_size\u001b[0m \u001b[0;34m=\u001b[0m \u001b[0;36m0.3\u001b[0m\u001b[0;34m,\u001b[0m \u001b[0mrandom_state\u001b[0m \u001b[0;34m=\u001b[0m \u001b[0;36m0\u001b[0m\u001b[0;34m)\u001b[0m\u001b[0;34m\u001b[0m\u001b[0;34m\u001b[0m\u001b[0m\n\u001b[0m\u001b[1;32m      3\u001b[0m \u001b[0;34m\u001b[0m\u001b[0m\n\u001b[1;32m      4\u001b[0m \u001b[0mprint\u001b[0m\u001b[0;34m(\u001b[0m\u001b[0;34m'Total de imagens no dataset de treino:'\u001b[0m\u001b[0;34m,\u001b[0m \u001b[0mlen\u001b[0m\u001b[0;34m(\u001b[0m\u001b[0mX_train\u001b[0m\u001b[0;34m)\u001b[0m\u001b[0;34m)\u001b[0m\u001b[0;34m\u001b[0m\u001b[0;34m\u001b[0m\u001b[0m\n\u001b[1;32m      5\u001b[0m \u001b[0mprint\u001b[0m\u001b[0;34m(\u001b[0m\u001b[0;34m'Total de imagens no dataset de teste:'\u001b[0m\u001b[0;34m,\u001b[0m \u001b[0mlen\u001b[0m\u001b[0;34m(\u001b[0m\u001b[0mX_test\u001b[0m\u001b[0;34m)\u001b[0m\u001b[0;34m)\u001b[0m\u001b[0;34m\u001b[0m\u001b[0;34m\u001b[0m\u001b[0m\n",
            "\u001b[0;31mValueError\u001b[0m: not enough values to unpack (expected 4, got 2)"
          ]
        }
      ]
    },
    {
      "cell_type": "code",
      "metadata": {
        "colab": {
          "base_uri": "https://localhost:8080/"
        },
        "id": "pIUphyzSBDa0",
        "outputId": "81254aae-cede-4e05-953d-6a689a6ce6ee"
      },
      "source": [
        "# y = tf.convert_to_tensor(y)\n",
        "# type(y)"
      ],
      "execution_count": null,
      "outputs": [
        {
          "output_type": "stream",
          "name": "stdout",
          "text": [
            "<class 'int'>\n"
          ]
        },
        {
          "output_type": "execute_result",
          "data": {
            "text/plain": [
              "tensorflow.python.framework.ops.EagerTensor"
            ]
          },
          "metadata": {},
          "execution_count": 21
        }
      ]
    },
    {
      "cell_type": "code",
      "metadata": {
        "colab": {
          "base_uri": "https://localhost:8080/",
          "height": 229
        },
        "id": "JiDqIi_S3ZPP",
        "outputId": "8f5fa9c5-e63c-40fa-db55-535edcf6c074"
      },
      "source": [
        "# for i in range (0, len(X_train)):\n",
        "#   if i < len(X_test):\n",
        "#     X_train[i] = np.array(X_train)\n",
        "#     X_train[i] = tf.convert_to_tensor(X_train[i])\n",
        "#     X_test[i] = np.array(X_train)\n",
        "#     X_test[i] = tf.convert_to_tensor\n",
        "#   else:\n",
        "#     X_train[i] = np.array(X_train)\n",
        "#     X_train[i] = tf.convert_to_tensor(X_train[i])"
      ],
      "execution_count": null,
      "outputs": [
        {
          "output_type": "error",
          "ename": "ValueError",
          "evalue": "ignored",
          "traceback": [
            "\u001b[0;31m---------------------------------------------------------------------------\u001b[0m",
            "\u001b[0;31mValueError\u001b[0m                                Traceback (most recent call last)",
            "\u001b[0;32m<ipython-input-22-10ebafae0dc4>\u001b[0m in \u001b[0;36m<module>\u001b[0;34m()\u001b[0m\n\u001b[1;32m      1\u001b[0m \u001b[0;32mfor\u001b[0m \u001b[0mi\u001b[0m \u001b[0;32min\u001b[0m \u001b[0mrange\u001b[0m \u001b[0;34m(\u001b[0m\u001b[0;36m0\u001b[0m\u001b[0;34m,\u001b[0m \u001b[0mlen\u001b[0m\u001b[0;34m(\u001b[0m\u001b[0mX_train\u001b[0m\u001b[0;34m)\u001b[0m\u001b[0;34m)\u001b[0m\u001b[0;34m:\u001b[0m\u001b[0;34m\u001b[0m\u001b[0;34m\u001b[0m\u001b[0m\n\u001b[1;32m      2\u001b[0m   \u001b[0;32mif\u001b[0m \u001b[0mi\u001b[0m \u001b[0;34m<\u001b[0m \u001b[0mlen\u001b[0m\u001b[0;34m(\u001b[0m\u001b[0mX_test\u001b[0m\u001b[0;34m)\u001b[0m\u001b[0;34m:\u001b[0m\u001b[0;34m\u001b[0m\u001b[0;34m\u001b[0m\u001b[0m\n\u001b[0;32m----> 3\u001b[0;31m     \u001b[0mX_train\u001b[0m\u001b[0;34m[\u001b[0m\u001b[0mi\u001b[0m\u001b[0;34m]\u001b[0m \u001b[0;34m=\u001b[0m \u001b[0mnp\u001b[0m\u001b[0;34m.\u001b[0m\u001b[0marray\u001b[0m\u001b[0;34m(\u001b[0m\u001b[0mX_train\u001b[0m\u001b[0;34m)\u001b[0m\u001b[0;34m\u001b[0m\u001b[0;34m\u001b[0m\u001b[0m\n\u001b[0m\u001b[1;32m      4\u001b[0m     \u001b[0mX_train\u001b[0m\u001b[0;34m[\u001b[0m\u001b[0mi\u001b[0m\u001b[0;34m]\u001b[0m \u001b[0;34m=\u001b[0m \u001b[0mtf\u001b[0m\u001b[0;34m.\u001b[0m\u001b[0mconvert_to_tensor\u001b[0m\u001b[0;34m(\u001b[0m\u001b[0mX_train\u001b[0m\u001b[0;34m[\u001b[0m\u001b[0mi\u001b[0m\u001b[0;34m]\u001b[0m\u001b[0;34m)\u001b[0m\u001b[0;34m\u001b[0m\u001b[0;34m\u001b[0m\u001b[0m\n\u001b[1;32m      5\u001b[0m     \u001b[0mX_test\u001b[0m\u001b[0;34m[\u001b[0m\u001b[0mi\u001b[0m\u001b[0;34m]\u001b[0m \u001b[0;34m=\u001b[0m \u001b[0mnp\u001b[0m\u001b[0;34m.\u001b[0m\u001b[0marray\u001b[0m\u001b[0;34m(\u001b[0m\u001b[0mX_train\u001b[0m\u001b[0;34m)\u001b[0m\u001b[0;34m\u001b[0m\u001b[0;34m\u001b[0m\u001b[0m\n",
            "\u001b[0;31mValueError\u001b[0m: only one element tensors can be converted to Python scalars"
          ]
        }
      ]
    },
    {
      "cell_type": "code",
      "metadata": {
        "id": "zCpG2y_b02b6"
      },
      "source": [
        "cnn = tf.keras.Sequential()\n",
        "cnn.add(tf.keras.layers.Conv2D(filters=32, kernel_size=3, activation='relu', input_shape=[255, 255, 3]))\n",
        "cnn.add(tf.keras.layers.MaxPool2D(pool_size=2, strides=2))\n",
        "\n",
        "cnn.add(tf.keras.layers.Conv2D(filters=32, kernel_size=3, activation='relu'))\n",
        "cnn.add(tf.keras.layers.MaxPool2D(pool_size=2, strides=2))\n",
        "\n",
        "cnn.add(tf.keras.layers.Flatten())\n",
        "cnn.add(tf.keras.layers.Dense(units=128, activation='relu'))\n",
        "\n",
        "cnn.add(tf.keras.layers.Dense(units=7, activation='sigmoid'))\n"
      ],
      "execution_count": 6,
      "outputs": []
    },
    {
      "cell_type": "code",
      "metadata": {
        "id": "NJSeyYqNAlQP"
      },
      "source": [
        "cnn.compile(optimizer = 'adam', loss = 'binary_crossentropy', metrics = ['accuracy'])"
      ],
      "execution_count": 8,
      "outputs": []
    },
    {
      "cell_type": "code",
      "metadata": {
        "id": "G-mNTcAsAl_L",
        "colab": {
          "base_uri": "https://localhost:8080/"
        },
        "outputId": "89fdffdb-2276-4edb-e0bb-06de6d47a88c"
      },
      "source": [
        "cnn.fit(x = data, validation_data = data_val, epochs = 25)"
      ],
      "execution_count": 9,
      "outputs": [
        {
          "output_type": "stream",
          "name": "stdout",
          "text": [
            "Epoch 1/25\n",
            "314/314 [==============================] - 2015s 6s/step - loss: 0.2414 - accuracy: 0.6669 - val_loss: 0.2186 - val_accuracy: 0.6373\n",
            "Epoch 2/25\n",
            "314/314 [==============================] - 266s 848ms/step - loss: 0.2076 - accuracy: 0.6781 - val_loss: 0.1968 - val_accuracy: 0.7098\n",
            "Epoch 3/25\n",
            "314/314 [==============================] - 267s 849ms/step - loss: 0.1982 - accuracy: 0.6958 - val_loss: 0.1903 - val_accuracy: 0.6788\n",
            "Epoch 4/25\n",
            "314/314 [==============================] - 266s 847ms/step - loss: 0.1880 - accuracy: 0.7112 - val_loss: 0.1741 - val_accuracy: 0.7617\n",
            "Epoch 5/25\n",
            "314/314 [==============================] - 266s 847ms/step - loss: 0.1815 - accuracy: 0.7199 - val_loss: 0.1531 - val_accuracy: 0.7461\n",
            "Epoch 6/25\n",
            "314/314 [==============================] - 265s 843ms/step - loss: 0.1794 - accuracy: 0.7248 - val_loss: 0.1576 - val_accuracy: 0.7254\n",
            "Epoch 7/25\n",
            "314/314 [==============================] - 267s 850ms/step - loss: 0.1733 - accuracy: 0.7339 - val_loss: 0.1634 - val_accuracy: 0.7150\n",
            "Epoch 8/25\n",
            "314/314 [==============================] - 264s 842ms/step - loss: 0.1697 - accuracy: 0.7354 - val_loss: 0.1487 - val_accuracy: 0.7876\n",
            "Epoch 9/25\n",
            "314/314 [==============================] - 264s 840ms/step - loss: 0.1666 - accuracy: 0.7439 - val_loss: 0.1508 - val_accuracy: 0.7617\n",
            "Epoch 10/25\n",
            "314/314 [==============================] - 265s 842ms/step - loss: 0.1629 - accuracy: 0.7477 - val_loss: 0.1425 - val_accuracy: 0.7513\n",
            "Epoch 11/25\n",
            "314/314 [==============================] - 266s 848ms/step - loss: 0.1624 - accuracy: 0.7489 - val_loss: 0.1451 - val_accuracy: 0.7876\n",
            "Epoch 12/25\n",
            "314/314 [==============================] - 267s 849ms/step - loss: 0.1593 - accuracy: 0.7568 - val_loss: 0.1377 - val_accuracy: 0.8031\n",
            "Epoch 13/25\n",
            "314/314 [==============================] - 266s 846ms/step - loss: 0.1561 - accuracy: 0.7564 - val_loss: 0.1455 - val_accuracy: 0.7720\n",
            "Epoch 14/25\n",
            "314/314 [==============================] - 266s 848ms/step - loss: 0.1545 - accuracy: 0.7616 - val_loss: 0.1345 - val_accuracy: 0.7927\n",
            "Epoch 15/25\n",
            "314/314 [==============================] - 265s 843ms/step - loss: 0.1510 - accuracy: 0.7706 - val_loss: 0.1411 - val_accuracy: 0.8083\n",
            "Epoch 16/25\n",
            "314/314 [==============================] - 265s 843ms/step - loss: 0.1501 - accuracy: 0.7732 - val_loss: 0.1387 - val_accuracy: 0.7772\n",
            "Epoch 17/25\n",
            "314/314 [==============================] - 268s 854ms/step - loss: 0.1480 - accuracy: 0.7727 - val_loss: 0.1381 - val_accuracy: 0.8031\n",
            "Epoch 18/25\n",
            "314/314 [==============================] - 271s 863ms/step - loss: 0.1432 - accuracy: 0.7833 - val_loss: 0.1394 - val_accuracy: 0.8031\n",
            "Epoch 19/25\n",
            "314/314 [==============================] - 270s 860ms/step - loss: 0.1448 - accuracy: 0.7769 - val_loss: 0.1410 - val_accuracy: 0.7772\n",
            "Epoch 20/25\n",
            "314/314 [==============================] - 271s 861ms/step - loss: 0.1428 - accuracy: 0.7858 - val_loss: 0.1415 - val_accuracy: 0.7927\n",
            "Epoch 21/25\n",
            "314/314 [==============================] - 270s 859ms/step - loss: 0.1370 - accuracy: 0.7937 - val_loss: 0.1373 - val_accuracy: 0.7927\n",
            "Epoch 22/25\n",
            "314/314 [==============================] - 270s 859ms/step - loss: 0.1355 - accuracy: 0.7979 - val_loss: 0.1415 - val_accuracy: 0.7668\n",
            "Epoch 23/25\n",
            "314/314 [==============================] - 271s 863ms/step - loss: 0.1326 - accuracy: 0.8011 - val_loss: 0.1379 - val_accuracy: 0.8187\n",
            "Epoch 24/25\n",
            "314/314 [==============================] - 270s 861ms/step - loss: 0.1309 - accuracy: 0.8068 - val_loss: 0.1576 - val_accuracy: 0.7617\n",
            "Epoch 25/25\n",
            "314/314 [==============================] - 272s 865ms/step - loss: 0.1303 - accuracy: 0.8130 - val_loss: 0.1374 - val_accuracy: 0.8342\n"
          ]
        },
        {
          "output_type": "execute_result",
          "data": {
            "text/plain": [
              "<keras.callbacks.History at 0x7f34a2adb510>"
            ]
          },
          "metadata": {},
          "execution_count": 9
        }
      ]
    }
  ]
}