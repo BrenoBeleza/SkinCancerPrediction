{
  "nbformat": 4,
  "nbformat_minor": 0,
  "metadata": {
    "colab": {
      "name": "SkinLesion1.ipynb",
      "provenance": [],
      "collapsed_sections": []
    },
    "kernelspec": {
      "name": "python3",
      "display_name": "Python 3"
    },
    "language_info": {
      "name": "python"
    }
  },
  "cells": [
    {
      "cell_type": "markdown",
      "metadata": {
        "id": "fzjc9rfAN75d"
      },
      "source": [
        "#Skin Cancer Detector\n",
        "\n",
        "O projeto conta com a criação de uma rede neural capaz de realizar o aprendizado de máquina e reconhecimento de padrões para identificar e classificar uma imagem de lesão de pele baseado em 7 principais tipos:\n",
        "- Nevo melanocítico: Distúrbio geralmente não cancerígeno das células da pele produtoras de pigmento, comumente chamado de marcas de nascença ou pintas.\n",
        "- Melanoma: O tipo mais grave de câncer de pele. O melanoma ocorre quando as células produtoras dos pigmentos que dão cor à pele tornam-se cancerígenas.\n",
        "- Verruga seborreica: Condição de pele benigna com aspecto de um nódulo maleável de cor castanha, preta ou marrom.\n",
        "A ceratose seborreica é um dos tumores de pele benignos mais comuns em idosos. Embora existam casos de tumores individuais, a presença de vários tumores é mais comum.\n",
        "-  Carcinoma basocelular: Tipo de câncer de pele que começa nas células basais.\n",
        "As células basais produzem novas células da pele conforme as antigas morrem. Limitar a exposição ao sol pode ajudar a evitar que essas células se tornem cancerígenas.\n",
        "Esse tipo de câncer geralmente aparece como um nódulo de cera branco ou uma mancha escamosa marrom em áreas expostas ao sol, como rosto e pescoço.\n",
        "-  Ceratose actínica: Mancha escamosa áspera na pele causada por anos de exposição ao sol.\n",
        "A ceratose actínica geralmente afeta idosos. Reduzir a exposição ao sol pode ajudar a diminuir o risco.\n",
        "É mais comum no rosto, nos lábios, nas orelhas, no dorso das mãos, nos antebraços, no couro cabeludo e no pescoço. A pele escamosa e áspera aumenta lentamente e não costuma causar outros sinais ou sintomas. A lesão pode levar anos para se desenvolver.\n",
        "-  Lesões vasculares: As anomalias vasculares correspondem a um extenso espectro de alterações que se dividem em dois grupos principais: 1) tumores vasculares, que representam as lesões proliferativas e 2) malformações vasculares, originadas por ectasias nos vasos, sejam elas capilares, venosas ou linfáticas.\n",
        "-  Dermatofibroma: lesões benignas típicas de extremidades, como braços, antebraços e pernas. Por terem coloração acastanhada, geralmente, são motivos de consulta, na qual os pacientes buscam saber se são pintas ou sinais.\n",
        "\n",
        "Realizando com precisão a classificação será possível então direcionar o melhor tratamento possível."
      ]
    },
    {
      "cell_type": "markdown",
      "metadata": {
        "id": "tCgUjrEhOQeE"
      },
      "source": [
        "Começamos o projeto importanto a base de dados das imagens que estavam alocadas no drive do trabalho."
      ]
    },
    {
      "cell_type": "code",
      "metadata": {
        "colab": {
          "base_uri": "https://localhost:8080/"
        },
        "id": "jsXhTQtIBOJq",
        "outputId": "880df15d-7eed-4bbc-e9cf-fdbcdd807289"
      },
      "source": [
        "from google.colab import drive\n",
        "drive.mount('/content/drive/')"
      ],
      "execution_count": null,
      "outputs": [
        {
          "output_type": "stream",
          "name": "stdout",
          "text": [
            "Drive already mounted at /content/drive/; to attempt to forcibly remount, call drive.mount(\"/content/drive/\", force_remount=True).\n"
          ]
        }
      ]
    },
    {
      "cell_type": "markdown",
      "metadata": {
        "id": "86sUc-s1OhXW"
      },
      "source": [
        "Importamos todas as bibliotecas que serão necessárias ao longo do desenvolvimento da nossa rede neural"
      ]
    },
    {
      "cell_type": "code",
      "metadata": {
        "id": "7LQWlyQ1MYx6"
      },
      "source": [
        "import os\n",
        "import numpy as np\n",
        "import pandas as pd \n",
        "import torch\n",
        "import tensorflow as tf\n",
        "from sklearn.model_selection import train_test_split\n",
        "from keras.preprocessing.image import ImageDataGenerator\n",
        "from keras.preprocessing import image"
      ],
      "execution_count": null,
      "outputs": []
    },
    {
      "cell_type": "markdown",
      "metadata": {
        "id": "iyY73Z_tOz4Y"
      },
      "source": [
        "Abrimos o arquivo que continha a classificação para cada imagem do dataset de treino e dataset de validação. "
      ]
    },
    {
      "cell_type": "code",
      "metadata": {
        "colab": {
          "base_uri": "https://localhost:8080/",
          "height": 204
        },
        "id": "FoimGh9_tI5n",
        "outputId": "fa5196c0-8720-471c-b847-ff09778ce225"
      },
      "source": [
        "metadata = pd.read_csv('/content/drive/My Drive/Trabalho/HAM10000_metadata')\n",
        "metadata_validation = pd.read_csv('/content/drive/My Drive/Trabalho/metadata_validation.csv')\n",
        "\n",
        "metadata.head()"
      ],
      "execution_count": null,
      "outputs": [
        {
          "output_type": "execute_result",
          "data": {
            "text/html": [
              "<div>\n",
              "<style scoped>\n",
              "    .dataframe tbody tr th:only-of-type {\n",
              "        vertical-align: middle;\n",
              "    }\n",
              "\n",
              "    .dataframe tbody tr th {\n",
              "        vertical-align: top;\n",
              "    }\n",
              "\n",
              "    .dataframe thead th {\n",
              "        text-align: right;\n",
              "    }\n",
              "</style>\n",
              "<table border=\"1\" class=\"dataframe\">\n",
              "  <thead>\n",
              "    <tr style=\"text-align: right;\">\n",
              "      <th></th>\n",
              "      <th>lesion_id</th>\n",
              "      <th>image_id</th>\n",
              "      <th>dx</th>\n",
              "      <th>dx_type</th>\n",
              "      <th>age</th>\n",
              "      <th>sex</th>\n",
              "      <th>localization</th>\n",
              "      <th>dataset</th>\n",
              "    </tr>\n",
              "  </thead>\n",
              "  <tbody>\n",
              "    <tr>\n",
              "      <th>0</th>\n",
              "      <td>HAM_0000118</td>\n",
              "      <td>ISIC_0027419</td>\n",
              "      <td>bkl</td>\n",
              "      <td>histo</td>\n",
              "      <td>80.0</td>\n",
              "      <td>male</td>\n",
              "      <td>scalp</td>\n",
              "      <td>vidir_modern</td>\n",
              "    </tr>\n",
              "    <tr>\n",
              "      <th>1</th>\n",
              "      <td>HAM_0000118</td>\n",
              "      <td>ISIC_0025030</td>\n",
              "      <td>bkl</td>\n",
              "      <td>histo</td>\n",
              "      <td>80.0</td>\n",
              "      <td>male</td>\n",
              "      <td>scalp</td>\n",
              "      <td>vidir_modern</td>\n",
              "    </tr>\n",
              "    <tr>\n",
              "      <th>2</th>\n",
              "      <td>HAM_0002730</td>\n",
              "      <td>ISIC_0026769</td>\n",
              "      <td>bkl</td>\n",
              "      <td>histo</td>\n",
              "      <td>80.0</td>\n",
              "      <td>male</td>\n",
              "      <td>scalp</td>\n",
              "      <td>vidir_modern</td>\n",
              "    </tr>\n",
              "    <tr>\n",
              "      <th>3</th>\n",
              "      <td>HAM_0002730</td>\n",
              "      <td>ISIC_0025661</td>\n",
              "      <td>bkl</td>\n",
              "      <td>histo</td>\n",
              "      <td>80.0</td>\n",
              "      <td>male</td>\n",
              "      <td>scalp</td>\n",
              "      <td>vidir_modern</td>\n",
              "    </tr>\n",
              "    <tr>\n",
              "      <th>4</th>\n",
              "      <td>HAM_0001466</td>\n",
              "      <td>ISIC_0031633</td>\n",
              "      <td>bkl</td>\n",
              "      <td>histo</td>\n",
              "      <td>75.0</td>\n",
              "      <td>male</td>\n",
              "      <td>ear</td>\n",
              "      <td>vidir_modern</td>\n",
              "    </tr>\n",
              "  </tbody>\n",
              "</table>\n",
              "</div>"
            ],
            "text/plain": [
              "     lesion_id      image_id   dx  ...   sex  localization       dataset\n",
              "0  HAM_0000118  ISIC_0027419  bkl  ...  male         scalp  vidir_modern\n",
              "1  HAM_0000118  ISIC_0025030  bkl  ...  male         scalp  vidir_modern\n",
              "2  HAM_0002730  ISIC_0026769  bkl  ...  male         scalp  vidir_modern\n",
              "3  HAM_0002730  ISIC_0025661  bkl  ...  male         scalp  vidir_modern\n",
              "4  HAM_0001466  ISIC_0031633  bkl  ...  male           ear  vidir_modern\n",
              "\n",
              "[5 rows x 8 columns]"
            ]
          },
          "metadata": {},
          "execution_count": 8
        }
      ]
    },
    {
      "cell_type": "code",
      "metadata": {
        "id": "iRS4oBt3RmH2",
        "colab": {
          "base_uri": "https://localhost:8080/",
          "height": 204
        },
        "outputId": "8a00d75c-1060-487d-e43a-8bbaa25b0341"
      },
      "source": [
        "metadata_validation.head()"
      ],
      "execution_count": null,
      "outputs": [
        {
          "output_type": "execute_result",
          "data": {
            "text/html": [
              "<div>\n",
              "<style scoped>\n",
              "    .dataframe tbody tr th:only-of-type {\n",
              "        vertical-align: middle;\n",
              "    }\n",
              "\n",
              "    .dataframe tbody tr th {\n",
              "        vertical-align: top;\n",
              "    }\n",
              "\n",
              "    .dataframe thead th {\n",
              "        text-align: right;\n",
              "    }\n",
              "</style>\n",
              "<table border=\"1\" class=\"dataframe\">\n",
              "  <thead>\n",
              "    <tr style=\"text-align: right;\">\n",
              "      <th></th>\n",
              "      <th>image</th>\n",
              "      <th>MEL</th>\n",
              "      <th>NV</th>\n",
              "      <th>BCC</th>\n",
              "      <th>AKIEC</th>\n",
              "      <th>BKL</th>\n",
              "      <th>DF</th>\n",
              "      <th>VASC</th>\n",
              "    </tr>\n",
              "  </thead>\n",
              "  <tbody>\n",
              "    <tr>\n",
              "      <th>0</th>\n",
              "      <td>ISIC_0034321</td>\n",
              "      <td>0.0</td>\n",
              "      <td>1.0</td>\n",
              "      <td>0.0</td>\n",
              "      <td>0.0</td>\n",
              "      <td>0.0</td>\n",
              "      <td>0.0</td>\n",
              "      <td>0.0</td>\n",
              "    </tr>\n",
              "    <tr>\n",
              "      <th>1</th>\n",
              "      <td>ISIC_0034322</td>\n",
              "      <td>0.0</td>\n",
              "      <td>1.0</td>\n",
              "      <td>0.0</td>\n",
              "      <td>0.0</td>\n",
              "      <td>0.0</td>\n",
              "      <td>0.0</td>\n",
              "      <td>0.0</td>\n",
              "    </tr>\n",
              "    <tr>\n",
              "      <th>2</th>\n",
              "      <td>ISIC_0034323</td>\n",
              "      <td>0.0</td>\n",
              "      <td>0.0</td>\n",
              "      <td>1.0</td>\n",
              "      <td>0.0</td>\n",
              "      <td>0.0</td>\n",
              "      <td>0.0</td>\n",
              "      <td>0.0</td>\n",
              "    </tr>\n",
              "    <tr>\n",
              "      <th>3</th>\n",
              "      <td>ISIC_0034324</td>\n",
              "      <td>0.0</td>\n",
              "      <td>1.0</td>\n",
              "      <td>0.0</td>\n",
              "      <td>0.0</td>\n",
              "      <td>0.0</td>\n",
              "      <td>0.0</td>\n",
              "      <td>0.0</td>\n",
              "    </tr>\n",
              "    <tr>\n",
              "      <th>4</th>\n",
              "      <td>ISIC_0034325</td>\n",
              "      <td>0.0</td>\n",
              "      <td>1.0</td>\n",
              "      <td>0.0</td>\n",
              "      <td>0.0</td>\n",
              "      <td>0.0</td>\n",
              "      <td>0.0</td>\n",
              "      <td>0.0</td>\n",
              "    </tr>\n",
              "  </tbody>\n",
              "</table>\n",
              "</div>"
            ],
            "text/plain": [
              "          image  MEL   NV  BCC  AKIEC  BKL   DF  VASC\n",
              "0  ISIC_0034321  0.0  1.0  0.0    0.0  0.0  0.0   0.0\n",
              "1  ISIC_0034322  0.0  1.0  0.0    0.0  0.0  0.0   0.0\n",
              "2  ISIC_0034323  0.0  0.0  1.0    0.0  0.0  0.0   0.0\n",
              "3  ISIC_0034324  0.0  1.0  0.0    0.0  0.0  0.0   0.0\n",
              "4  ISIC_0034325  0.0  1.0  0.0    0.0  0.0  0.0   0.0"
            ]
          },
          "metadata": {},
          "execution_count": 9
        }
      ]
    },
    {
      "cell_type": "markdown",
      "metadata": {
        "id": "0eIN_UqiQAMj"
      },
      "source": [
        "Agrupamos as imagens do dataset que estava fragmentado em duas pastas por conta do tamanho e quantidade em apenas uma pasta."
      ]
    },
    {
      "cell_type": "code",
      "metadata": {
        "id": "UjpplPRytitT"
      },
      "source": [
        "# It's not necessary to run this cell again\n",
        "old_path1 = '/content/drive/My Drive/Trabalho/HAM10000_part_2/'\n",
        "new_path1 = '/content/drive/My Drive/Trabalho/HAM10000_part_1/'\n",
        "archives = os.listdir(old_path1)\n",
        "for i in archives:\n",
        "  os.replace((old_path1+i), (new_path1+i))"
      ],
      "execution_count": null,
      "outputs": []
    },
    {
      "cell_type": "markdown",
      "metadata": {
        "id": "dQwS7wXTQcxL"
      },
      "source": [
        "Checando a quantidade de imagens da pasta original e da pasta de destino"
      ]
    },
    {
      "cell_type": "code",
      "metadata": {
        "id": "RMxBpZMODRnd"
      },
      "source": [
        "# Number of images in the folders\n",
        "print(len(os.listdir(old_path1)))\n",
        "print(len(os.listdir(new_path1))) "
      ],
      "execution_count": null,
      "outputs": []
    },
    {
      "cell_type": "markdown",
      "metadata": {
        "id": "4Qb9sozZQlC_"
      },
      "source": [
        "Organizando as imagens em pastas representando suas classes"
      ]
    },
    {
      "cell_type": "code",
      "metadata": {
        "id": "SZtA7a3atX3j"
      },
      "source": [
        "# Organizing the images in folders representing their classes\n",
        "# It's not necessary to run this cell again\n",
        "\n",
        "old_path_2 = '/content/drive/My Drive/TEES/Trabalho/HAM10000_part_1/'\n",
        "new_path_2 = '/content/drive/My Drive/TEES/Trabalho/dataset/'\n",
        "\n",
        "for i in range(0, len(metadata)):\n",
        "  os.replace(old_path_2+metadata.image_id[i]+'.jpg', new_path_2+metadata.dx[i]+\"/\"+metadata.image_id[i]+'.jpg')"
      ],
      "execution_count": null,
      "outputs": []
    },
    {
      "cell_type": "markdown",
      "metadata": {
        "id": "QVW_7VC0Q2oE"
      },
      "source": [
        "Aqui podemos verificar a quantidade de imagens para cada tipo de lesão de pele"
      ]
    },
    {
      "cell_type": "code",
      "metadata": {
        "id": "LwmZ_sAavdam"
      },
      "source": [
        "new_path_2 = '/content/drive/My Drive/TEES/Trabalho/dataset/'\n",
        "print(len(os.listdir(new_path_2+'akiec')))\n",
        "print(len(os.listdir(new_path_2+'bcc')))\n",
        "print(len(os.listdir(new_path_2+'bkl')))\n",
        "print(len(os.listdir(new_path_2+'df')))\n",
        "print(len(os.listdir(new_path_2+'mel')))\n",
        "print(len(os.listdir(new_path_2+'nv')))\n",
        "print(len(os.listdir(new_path_2+'vasc')))"
      ],
      "execution_count": null,
      "outputs": []
    },
    {
      "cell_type": "markdown",
      "metadata": {
        "id": "ofIvl6dXSBr6"
      },
      "source": [
        "Organizando o dataset de validação em novas pastas"
      ]
    },
    {
      "cell_type": "code",
      "metadata": {
        "id": "RenJ3WLox3FA"
      },
      "source": [
        "# Now organizing the validation dataset\n",
        "#It's not necessary to run this cell again\n",
        "path3 = '/content/drive/My Drive/TEES/Trabalho/dataset_validation/'\n",
        "\n",
        "for i in range(0, len(metadata_validation)):\n",
        "  if metadata_validation.MEL[i] == 1.0:\n",
        "    os.replace((path3+metadata_validation.image[i]+'.jpg'), path3+'mel/'+metadata_validation.image[i]+'.jpg')\n",
        "  elif metadata_validation.NV[i] == 1.0:\n",
        "    os.replace((path3+metadata_validation.image[i]+'.jpg'), path3+'nv/'+metadata_validation.image[i]+'.jpg')\n",
        "  elif metadata_validation.BCC[i] == 1.0:\n",
        "    os.replace((path3+metadata_validation.image[i]+'.jpg'), path3+'bcc/'+metadata_validation.image[i]+'.jpg')\n",
        "  elif metadata_validation.AKIEC[i] == 1.0:\n",
        "    os.replace((path3+metadata_validation.image[i]+'.jpg'), path3+'akiec/'+metadata_validation.image[i]+'.jpg')\n",
        "  elif metadata_validation.BKL[i] == 1.0:\n",
        "    os.replace((path3+metadata_validation.image[i]+'.jpg'), path3+'bkl/'+metadata_validation.image[i]+'.jpg')\n",
        "  elif metadata_validation.DF[i] == 1.0:\n",
        "    os.replace((path3+metadata_validation.image[i]+'.jpg'), path3+'df/'+metadata_validation.image[i]+'.jpg')\n",
        "  elif metadata_validation.VASC[i] == 1.0:\n",
        "    os.replace((path3+metadata_validation.image[i]+'.jpg'), path3+'vasc/'+metadata_validation.image[i]+'.jpg')"
      ],
      "execution_count": null,
      "outputs": []
    },
    {
      "cell_type": "markdown",
      "metadata": {
        "id": "0Xh6TSg6SWTk"
      },
      "source": [
        "Listando a quantidade de imagens de cada tipo de lesão de pele no dataset de validação."
      ]
    },
    {
      "cell_type": "code",
      "metadata": {
        "id": "-An6QUUB-9cl"
      },
      "source": [
        "path3 = '/content/drive/My Drive/TEES/Trabalho/dataset_validation/'\n",
        "print(len(os.listdir(path3+'akiec')))\n",
        "print(len(os.listdir(path3+'bcc')))\n",
        "print(len(os.listdir(path3+'bcc')))\n",
        "print(len(os.listdir(path3+'df')))\n",
        "print(len(os.listdir(path3+'mel')))\n",
        "print(len(os.listdir(path3+'nv')))\n",
        "print(len(os.listdir(path3+'vasc')))"
      ],
      "execution_count": null,
      "outputs": []
    },
    {
      "cell_type": "code",
      "metadata": {
        "id": "ISj9G2wGNY3v"
      },
      "source": [
        "def testar_gpu():\n",
        "\ttrain_on_gpu = torch.cuda.is_available() #Observa se a GPU está disponivel\n",
        "\tif train_on_gpu: #Se sim\n",
        "\t\tdevice = torch.device('cuda') #Seleciona o device como GPU\n",
        "\t\tprint(\"Treinando na GPU\") #E manda a mensagem\n",
        "\telse: #Se não\n",
        "\t\tdevice = torch.device('cpu') #Seleciona o device como cpu\n",
        "\t\tprint(\"GPU indisponível, treinando na CPU\") #E avisa que a GPU não esta disponível\n",
        "\treturn device\n",
        "\n",
        "device = testar_gpu()"
      ],
      "execution_count": null,
      "outputs": []
    },
    {
      "cell_type": "code",
      "metadata": {
        "id": "-tpIZk4hNi2Q"
      },
      "source": [
        "# transform = transforms.Compose([\n",
        "#                                 transforms.RandomHorizontalFlip(),\n",
        "#                                 transforms.RandomRotation(10),\n",
        "#                                 transforms.Resize((255, 255)),\n",
        "#                                 transforms.ToTensor(),\n",
        "#                                 transforms.Normalize((0.5, 0.5, 0.5), (0.5, 0.5, 0.5))\n",
        "#                               ])\n",
        "# data = ImageFolder('/content/drive/My Drive/TEES/Trabalho/dataset/', transform=transform)\n",
        "# print('Total de imagens no dataset: ', len(data))"
      ],
      "execution_count": null,
      "outputs": []
    },
    {
      "cell_type": "markdown",
      "metadata": {
        "id": "IaqYLyvySqQZ"
      },
      "source": [
        "Utilizando o *ImageDataGenerator* realizamos alteração de tamanho, zoom, direção e distorção do ângulo de algumas imagens do nosso dataset para generalizar as imagens e abranger um número maior de possibilidades de imagens."
      ]
    },
    {
      "cell_type": "code",
      "metadata": {
        "id": "dhfgG3j2k2_S"
      },
      "source": [
        "datagen = ImageDataGenerator(rescale = 1./255,\n",
        "                                   shear_range = 0.2,\n",
        "                                   zoom_range = 0.2,\n",
        "                                   horizontal_flip = True)"
      ],
      "execution_count": null,
      "outputs": []
    },
    {
      "cell_type": "markdown",
      "metadata": {
        "id": "Qz_6ZrgDUqdK"
      },
      "source": [
        "Definimos o tamanho padrão das imagens e agrupamos, dividimos em grupos e aplicamos a transformação."
      ]
    },
    {
      "cell_type": "code",
      "metadata": {
        "id": "-z_5KfHuS_9a",
        "colab": {
          "base_uri": "https://localhost:8080/"
        },
        "outputId": "fcce81fb-7abc-4537-9f51-f9c5a307e6a5"
      },
      "source": [
        "data = datagen.flow_from_directory('/content/drive/My Drive/Trabalho/dataset/',\n",
        "                                                 target_size = (255, 255),\n",
        "                                                 batch_size = 32,\n",
        "                                                 class_mode = 'categorical')\n",
        "\n",
        "data_val = datagen.flow_from_directory('/content/drive/My Drive/Trabalho/dataset_validation/',\n",
        "                                                 target_size = (255, 255),\n",
        "                                                 batch_size = 32,\n",
        "                                                 class_mode = 'categorical')"
      ],
      "execution_count": null,
      "outputs": [
        {
          "output_type": "stream",
          "name": "stdout",
          "text": [
            "Found 10031 images belonging to 7 classes.\n",
            "Found 193 images belonging to 7 classes.\n"
          ]
        }
      ]
    },
    {
      "cell_type": "code",
      "metadata": {
        "colab": {
          "base_uri": "https://localhost:8080/",
          "height": 332
        },
        "id": "DPwsNNVhc5Wa",
        "outputId": "3a96d7d4-7082-4a8d-f42a-7b1d0b8ea212"
      },
      "source": [
        "from PIL import Image\n",
        "from matplotlib import pyplot as plt\n",
        "\n",
        "fig = plt.figure(figsize=(10, 7))\n",
        "\n",
        "rows = 2\n",
        "columns = 4\n",
        "\n",
        "Image1 = Image.open('/content/drive/My Drive/Trabalho/dataset/akiec/ISIC_0024418.jpg').resize((150,75))\n",
        "Image2 = Image.open('/content/drive/My Drive/Trabalho/dataset/bcc/ISIC_0024457.jpg').resize((150,75))\n",
        "Image3 = Image.open('/content/drive/My Drive/Trabalho/dataset/bkl/ISIC_0024426.jpg').resize((150,75))\n",
        "Image4 = Image.open('/content/drive/My Drive/Trabalho/dataset/df/ISIC_0025594.jpg').resize((150,75))\n",
        "Image5 = Image.open('/content/drive/My Drive/Trabalho/dataset/mel/ISIC_0024410.jpg').resize((150,75))\n",
        "Image6 = Image.open('/content/drive/My Drive/Trabalho/dataset/nv/ISIC_0024317.jpg').resize((150,75))\n",
        "Image7 = Image.open('/content/drive/My Drive/Trabalho/dataset/vasc/ISIC_0025596.jpg').resize((150,75))\n",
        "\n",
        "fig.add_subplot(rows, columns, 1)\n",
        "\n",
        "plt.imshow(Image1)\n",
        "plt.axis('off')\n",
        "plt.title(\"carcinoma intraepitelial\")\n",
        "  \n",
        "# Adds a subplot at the 2nd position\n",
        "fig.add_subplot(rows, columns, 2)\n",
        "  \n",
        "# showing image\n",
        "plt.imshow(Image2)\n",
        "plt.axis('off')\n",
        "plt.title(\"carcinoma basocelular\")\n",
        "  \n",
        "# Adds a subplot at the 3rd position\n",
        "fig.add_subplot(rows, columns, 3)\n",
        "  \n",
        "# showing image\n",
        "plt.imshow(Image3)\n",
        "plt.axis('off')\n",
        "plt.title(\"ceratose benigna\")\n",
        "  \n",
        "# Adds a subplot at the 4th position\n",
        "fig.add_subplot(rows, columns, 4)\n",
        "  \n",
        "# showing image\n",
        "plt.imshow(Image4)\n",
        "plt.axis('off')\n",
        "plt.title(\"dermatofibroma\")\n",
        "\n",
        "# Adds a subplot at the 4th position\n",
        "fig.add_subplot(rows, columns, 5)\n",
        "  \n",
        "# showing image\n",
        "plt.imshow(Image5)\n",
        "plt.axis('off')\n",
        "plt.title(\"melanoma\")\n",
        "\n",
        "# Adds a subplot at the 4th position\n",
        "fig.add_subplot(rows, columns, 6)\n",
        "  \n",
        "# showing image\n",
        "plt.imshow(Image6)\n",
        "plt.axis('off')\n",
        "plt.title(\"nevo melanocítico\")\n",
        "\n",
        "# Adds a subplot at the 4th position\n",
        "fig.add_subplot(rows, columns, 7)\n",
        "  \n",
        "# showing image\n",
        "plt.imshow(Image7)\n",
        "plt.axis('off')\n",
        "plt.title(\"Lesao Vascular\")"
      ],
      "execution_count": null,
      "outputs": [
        {
          "output_type": "execute_result",
          "data": {
            "text/plain": [
              "Text(0.5, 1.0, 'Lesao Vascular')"
            ]
          },
          "metadata": {},
          "execution_count": 14
        },
        {
          "output_type": "display_data",
          "data": {
            "image/png": "[encoded data removed]",
            "text/plain": [
              "<Figure size 720x504 with 7 Axes>"
            ]
          },
          "metadata": {
            "needs_background": "light"
          }
        }
      ]
    },
    {
      "cell_type": "code",
      "metadata": {
        "id": "NV7N1w5PgLzi"
      },
      "source": [
        "\n",
        "##from keras.preprocessing.image import img_to_array, array_to_img\n",
        "##from keras.preprocessing import image\n",
        "\n",
        "##datagen = ImageDataGenerator(horizontal_flip=True, zoom_range=0.3, rotation_range=60)\n",
        "##img = image.load_img('/content/drive/My Drive/Trabalho/dataset_validation_2/akiec/ISIC_0034422.jpg')\n",
        "##img=image.img_to_array(img)\n",
        "\n",
        "#display imagem original\n",
        "#plt.imshow(image.array_to_img(img))\n",
        "#plt.show()\n",
        "\n",
        "#reshape the image\n",
        "#img = img.reshape((1,)+img.shape)\n",
        "\n",
        "#create datagen\n",
        "#batch1 = datagen.flow(img, batch_size=1)\n",
        "#fig, ax = plt.subplots(nrows=1, ncols=3, figsize=(15,15))\n",
        "\n",
        "#generate augment images\n",
        "\n",
        "#for i in range(4):\n",
        " # image = batch1[0][0].astype('uint8')\n",
        " # plt.imshow(Image.fromarray(image))\n",
        " # plt.show()\n",
        "\n",
        "#model.add(BatchNormalization())\n",
        " #####################################\n",
        "\n",
        " datagen_train=ImageDataGenerator(rescale=1./255, horizontal_flip=True, zoom_range=0.3, rotation_range=45, fill_mode='nearest', vertical_flip=True)\n",
        "\n",
        " train_set = datagen_train.flow_from_directory('/content/drive/My Drive/Trabalho/dataset_validation_2', target_size=(256,256), color_mode='rgb', class_mode='binary', batch_size=64)\n",
        "\n",
        " #validation\n",
        "\n",
        " datagen_val = ImageDataGenerator(rescale=1./255)\n",
        " val_set = datagen_val.flow_from_directory()"
      ],
      "execution_count": null,
      "outputs": []
    },
    {
      "cell_type": "code",
      "metadata": {
        "id": "_tPL0Y4l5Yc9"
      },
      "source": [
        "# dataVis = ImageList.from_folder('/content/drive/My Drive/TEES/Trabalho/dataset/')\n",
        "# dataVis.open(dataVis.items[randint(0,len(dataVis))])"
      ],
      "execution_count": null,
      "outputs": []
    },
    {
      "cell_type": "code",
      "metadata": {
        "id": "Bu14wRL1pl4-"
      },
      "source": [
        "# import warnings\n",
        "# warnings.filterwarnings('ignore')"
      ],
      "execution_count": null,
      "outputs": []
    },
    {
      "cell_type": "code",
      "metadata": {
        "id": "jOun-DZljqoK"
      },
      "source": [
        "# labels = ['akiec', 'bcc', 'bkl', 'df', 'mel', 'nv', 'vasc']\n",
        "# for i in range (0, len(metadata.dx)):\n",
        "#   if metadata.dx[i] == 'akiec':\n",
        "#     metadata.dx[i] = 0\n",
        "#   elif metadata.dx[i] == 'bcc':\n",
        "#     metadata.dx[i] = 1\n",
        "#   elif metadata.dx[i] == 'bkl':\n",
        "#     metadata.dx[i] = 2\n",
        "#   elif metadata.dx[i] == 'df':\n",
        "#     metadata.dx[i] = 3\n",
        "#   elif metadata.dx[i] == 'mel':\n",
        "#     metadata.dx[i] = 4\n",
        "#   elif metadata.dx[i] == 'nv':\n",
        "#     metadata.dx[i] = 5\n",
        "#   elif metadata.dx[i] == 'vasc':\n",
        "#     metadata.dx[i] = 6\n"
      ],
      "execution_count": null,
      "outputs": []
    },
    {
      "cell_type": "code",
      "metadata": {
        "id": "Qe9jE1gGtTYV"
      },
      "source": [
        "# # y = metadata.dx.to_numpy(dtype = int)\n",
        "# X_train, X_test, y_train, y_test = train_test_split(data, test_size = 0.3, random_state = 0)\n",
        "\n",
        "# print('Total de imagens no dataset de treino:', len(X_train))\n",
        "# print('Total de imagens no dataset de teste:', len(X_test))"
      ],
      "execution_count": null,
      "outputs": []
    },
    {
      "cell_type": "code",
      "metadata": {
        "id": "pIUphyzSBDa0"
      },
      "source": [
        "# y = tf.convert_to_tensor(y)\n",
        "# type(y)"
      ],
      "execution_count": null,
      "outputs": []
    },
    {
      "cell_type": "code",
      "metadata": {
        "id": "JiDqIi_S3ZPP"
      },
      "source": [
        "# for i in range (0, len(X_train)):\n",
        "#   if i < len(X_test):\n",
        "#     X_train[i] = np.array(X_train)\n",
        "#     X_train[i] = tf.convert_to_tensor(X_train[i])\n",
        "#     X_test[i] = np.array(X_train)\n",
        "#     X_test[i] = tf.convert_to_tensor\n",
        "#   else:\n",
        "#     X_train[i] = np.array(X_train)\n",
        "#     X_train[i] = tf.convert_to_tensor(X_train[i])"
      ],
      "execution_count": null,
      "outputs": []
    },
    {
      "cell_type": "markdown",
      "metadata": {
        "id": "FJJxA0WCVcVu"
      },
      "source": [
        "Definimos a rede neural com duas camadas de convolução com ativação *relu* e duas camadas de *MaxPooling*, planificamos os dados e adicionamos uma camada *Dense* com ativação *relu* e outra camada *Dense* com ativação *Sigmoid* que será a saida da rede.\n",
        "\n",
        "A escolha da saida em *sigmoid* se deve ao fato de sua saída ser sempre em porcentagem, variando de 0 a 1."
      ]
    },
    {
      "cell_type": "code",
      "metadata": {
        "id": "zCpG2y_b02b6"
      },
      "source": [
        "###\n",
        "# model = Sequential()\n",
        "\n",
        "# model.add(Conv2D(filters=32,padding='same',kernel_size=(3,3),kernel_initializer='he_normal',input_shape=(256,256,3)))\n",
        "# model.add(BatchNormalization())\n",
        "# model.add(Activation('relu'))\n",
        "# model.add(MaxPooling2D(pool_size=(2,2),padding='same',strides=2))\n",
        "\n",
        "# model.add(Conv2D(filters=64,kernel_size=(3,3),kernel_initializer='he_normal',padding='same'))\n",
        "# model.add(BatchNormalization())\n",
        "# model.add(Activation('relu'))\n",
        "# model.add(MaxPooling2D(pool_size=(2,2),padding='same',strides=2))\n",
        "# model.add(Dropout(0.3))\n",
        "\n",
        "# model.add(Conv2D(filters=128,kernel_initializer='he_normal',kernel_size=(3,3),padding='same'))\n",
        "# model.add(BatchNormalization())\n",
        "# model.add(Activation('relu'))\n",
        "# model.add(MaxPooling2D(pool_size=(2,2),padding='same',strides=2))\n",
        "# model.add(Dropout(0.35))\n",
        "\n",
        "# model.add(Flatten())\n",
        "# model.add(Dense(units=256,activation='relu'))\n",
        "# model.add(Dense(units=512,activation='relu'))\n",
        "\n",
        "# model.add(Dense(units=1,activation='sigmoid'))\n",
        "\n",
        "cnn = tf.keras.Sequential()\n",
        "cnn.add(tf.keras.layers.Conv2D(filters=32, kernel_size=3,activation='softmax', input_shape=[255, 255, 3]))\n",
        "cnn.add(tf.keras.layers.MaxPool2D(pool_size=2, strides=2))\n",
        "\n",
        "cnn.add(tf.keras.layers.Conv2D(filters=32, kernel_size=3, activation='softmax'))\n",
        "cnn.add(tf.keras.layers.MaxPool2D(pool_size=2, strides=2))\n",
        "\n",
        "cnn.add(tf.keras.layers.Flatten())\n",
        "cnn.add(tf.keras.layers.Dense(units=128, activation='softmax'))\n",
        "\n",
        "cnn.add(tf.keras.layers.Dense(units=7, activation='sigmoid'))\n"
      ],
      "execution_count": null,
      "outputs": []
    },
    {
      "cell_type": "markdown",
      "metadata": {
        "id": "VSUYIl3TXp6Y"
      },
      "source": [
        "Compilamos a rede neural, definindo o ativador, a função de perda e a métrica a ser avaliada"
      ]
    },
    {
      "cell_type": "code",
      "metadata": {
        "id": "NJSeyYqNAlQP"
      },
      "source": [
        "cnn.compile(optimizer = 'adam', loss = 'binary_crossentropy', metrics = ['accuracy'])"
      ],
      "execution_count": null,
      "outputs": []
    },
    {
      "cell_type": "markdown",
      "metadata": {
        "id": "gh_B4OeiX9Hu"
      },
      "source": [
        "Treinamento do modelo"
      ]
    },
    {
      "cell_type": "code",
      "metadata": {
        "id": "G-mNTcAsAl_L",
        "colab": {
          "base_uri": "https://localhost:8080/",
          "height": 956
        },
        "outputId": "44f1d4f2-f84c-4cc4-b972-927ed1630442"
      },
      "source": [
        "cnn.fit(x = data, validation_data = data_val, epochs = 25)"
      ],
      "execution_count": null,
      "outputs": [
        {
          "output_type": "stream",
          "name": "stdout",
          "text": [
            "Epoch 1/25\n",
            "314/314 [==============================] - 5640s 18s/step - loss: 0.5442 - accuracy: 0.6666 - val_loss: 0.4722 - val_accuracy: 0.6321\n",
            "Epoch 2/25\n",
            "314/314 [==============================] - 886s 3s/step - loss: 0.4157 - accuracy: 0.6700 - val_loss: 0.3848 - val_accuracy: 0.6321\n",
            "Epoch 3/25\n",
            "314/314 [==============================] - 881s 3s/step - loss: 0.3485 - accuracy: 0.6700 - val_loss: 0.3386 - val_accuracy: 0.6321\n",
            "Epoch 4/25\n",
            "314/314 [==============================] - 882s 3s/step - loss: 0.3120 - accuracy: 0.6700 - val_loss: 0.3134 - val_accuracy: 0.6321\n",
            "Epoch 5/25\n",
            "314/314 [==============================] - 879s 3s/step - loss: 0.2915 - accuracy: 0.6700 - val_loss: 0.2992 - val_accuracy: 0.6321\n",
            "Epoch 6/25\n",
            "314/314 [==============================] - 879s 3s/step - loss: 0.2794 - accuracy: 0.6700 - val_loss: 0.2909 - val_accuracy: 0.6321\n",
            "Epoch 7/25\n",
            "314/314 [==============================] - 877s 3s/step - loss: 0.2720 - accuracy: 0.6700 - val_loss: 0.2860 - val_accuracy: 0.6321\n",
            "Epoch 8/25\n",
            "314/314 [==============================] - 882s 3s/step - loss: 0.2674 - accuracy: 0.6700 - val_loss: 0.2830 - val_accuracy: 0.6321\n",
            "Epoch 9/25\n",
            "314/314 [==============================] - 880s 3s/step - loss: 0.2645 - accuracy: 0.6700 - val_loss: 0.2810 - val_accuracy: 0.6321\n",
            "Epoch 10/25\n",
            "314/314 [==============================] - 874s 3s/step - loss: 0.2626 - accuracy: 0.6700 - val_loss: 0.2798 - val_accuracy: 0.6321\n",
            "Epoch 11/25\n",
            "314/314 [==============================] - 878s 3s/step - loss: 0.2613 - accuracy: 0.6700 - val_loss: 0.2789 - val_accuracy: 0.6321\n",
            "Epoch 12/25\n",
            "314/314 [==============================] - 889s 3s/step - loss: 0.2604 - accuracy: 0.6700 - val_loss: 0.2784 - val_accuracy: 0.6321\n",
            "Epoch 13/25\n",
            "314/314 [==============================] - 875s 3s/step - loss: 0.2598 - accuracy: 0.6700 - val_loss: 0.2780 - val_accuracy: 0.6321\n",
            "Epoch 14/25\n",
            "314/314 [==============================] - 880s 3s/step - loss: 0.2594 - accuracy: 0.6700 - val_loss: 0.2777 - val_accuracy: 0.6321\n",
            "Epoch 15/25\n",
            "314/314 [==============================] - 883s 3s/step - loss: 0.2592 - accuracy: 0.6700 - val_loss: 0.2775 - val_accuracy: 0.6321\n",
            "Epoch 16/25\n",
            "314/314 [==============================] - 880s 3s/step - loss: 0.2590 - accuracy: 0.6700 - val_loss: 0.2773 - val_accuracy: 0.6321\n",
            "Epoch 17/25\n",
            "314/314 [==============================] - 877s 3s/step - loss: 0.2589 - accuracy: 0.6700 - val_loss: 0.2772 - val_accuracy: 0.6321\n",
            "Epoch 18/25\n",
            "163/314 [==============>...............] - ETA: 7:00 - loss: 0.2554 - accuracy: 0.6771"
          ]
        },
        {
          "output_type": "error",
          "ename": "KeyboardInterrupt",
          "evalue": "ignored",
          "traceback": [
            "\u001b[0;31m---------------------------------------------------------------------------\u001b[0m",
            "\u001b[0;31mKeyboardInterrupt\u001b[0m                         Traceback (most recent call last)",
            "\u001b[0;32m<ipython-input-17-4954f9827c11>\u001b[0m in \u001b[0;36m<module>\u001b[0;34m()\u001b[0m\n\u001b[0;32m----> 1\u001b[0;31m \u001b[0mcnn\u001b[0m\u001b[0;34m.\u001b[0m\u001b[0mfit\u001b[0m\u001b[0;34m(\u001b[0m\u001b[0mx\u001b[0m \u001b[0;34m=\u001b[0m \u001b[0mdata\u001b[0m\u001b[0;34m,\u001b[0m \u001b[0mvalidation_data\u001b[0m \u001b[0;34m=\u001b[0m \u001b[0mdata_val\u001b[0m\u001b[0;34m,\u001b[0m \u001b[0mepochs\u001b[0m \u001b[0;34m=\u001b[0m \u001b[0;36m25\u001b[0m\u001b[0;34m)\u001b[0m\u001b[0;34m\u001b[0m\u001b[0;34m\u001b[0m\u001b[0m\n\u001b[0m",
            "\u001b[0;32m/usr/local/lib/python3.7/dist-packages/keras/engine/training.py\u001b[0m in \u001b[0;36mfit\u001b[0;34m(self, x, y, batch_size, epochs, verbose, callbacks, validation_split, validation_data, shuffle, class_weight, sample_weight, initial_epoch, steps_per_epoch, validation_steps, validation_batch_size, validation_freq, max_queue_size, workers, use_multiprocessing)\u001b[0m\n\u001b[1;32m   1182\u001b[0m                 _r=1):\n\u001b[1;32m   1183\u001b[0m               \u001b[0mcallbacks\u001b[0m\u001b[0;34m.\u001b[0m\u001b[0mon_train_batch_begin\u001b[0m\u001b[0;34m(\u001b[0m\u001b[0mstep\u001b[0m\u001b[0;34m)\u001b[0m\u001b[0;34m\u001b[0m\u001b[0;34m\u001b[0m\u001b[0m\n\u001b[0;32m-> 1184\u001b[0;31m               \u001b[0mtmp_logs\u001b[0m \u001b[0;34m=\u001b[0m \u001b[0mself\u001b[0m\u001b[0;34m.\u001b[0m\u001b[0mtrain_function\u001b[0m\u001b[0;34m(\u001b[0m\u001b[0miterator\u001b[0m\u001b[0;34m)\u001b[0m\u001b[0;34m\u001b[0m\u001b[0;34m\u001b[0m\u001b[0m\n\u001b[0m\u001b[1;32m   1185\u001b[0m               \u001b[0;32mif\u001b[0m \u001b[0mdata_handler\u001b[0m\u001b[0;34m.\u001b[0m\u001b[0mshould_sync\u001b[0m\u001b[0;34m:\u001b[0m\u001b[0;34m\u001b[0m\u001b[0;34m\u001b[0m\u001b[0m\n\u001b[1;32m   1186\u001b[0m                 \u001b[0mcontext\u001b[0m\u001b[0;34m.\u001b[0m\u001b[0masync_wait\u001b[0m\u001b[0;34m(\u001b[0m\u001b[0;34m)\u001b[0m\u001b[0;34m\u001b[0m\u001b[0;34m\u001b[0m\u001b[0m\n",
            "\u001b[0;32m/usr/local/lib/python3.7/dist-packages/tensorflow/python/eager/def_function.py\u001b[0m in \u001b[0;36m__call__\u001b[0;34m(self, *args, **kwds)\u001b[0m\n\u001b[1;32m    883\u001b[0m \u001b[0;34m\u001b[0m\u001b[0m\n\u001b[1;32m    884\u001b[0m       \u001b[0;32mwith\u001b[0m \u001b[0mOptionalXlaContext\u001b[0m\u001b[0;34m(\u001b[0m\u001b[0mself\u001b[0m\u001b[0;34m.\u001b[0m\u001b[0m_jit_compile\u001b[0m\u001b[0;34m)\u001b[0m\u001b[0;34m:\u001b[0m\u001b[0;34m\u001b[0m\u001b[0;34m\u001b[0m\u001b[0m\n\u001b[0;32m--> 885\u001b[0;31m         \u001b[0mresult\u001b[0m \u001b[0;34m=\u001b[0m \u001b[0mself\u001b[0m\u001b[0;34m.\u001b[0m\u001b[0m_call\u001b[0m\u001b[0;34m(\u001b[0m\u001b[0;34m*\u001b[0m\u001b[0margs\u001b[0m\u001b[0;34m,\u001b[0m \u001b[0;34m**\u001b[0m\u001b[0mkwds\u001b[0m\u001b[0;34m)\u001b[0m\u001b[0;34m\u001b[0m\u001b[0;34m\u001b[0m\u001b[0m\n\u001b[0m\u001b[1;32m    886\u001b[0m \u001b[0;34m\u001b[0m\u001b[0m\n\u001b[1;32m    887\u001b[0m       \u001b[0mnew_tracing_count\u001b[0m \u001b[0;34m=\u001b[0m \u001b[0mself\u001b[0m\u001b[0;34m.\u001b[0m\u001b[0mexperimental_get_tracing_count\u001b[0m\u001b[0;34m(\u001b[0m\u001b[0;34m)\u001b[0m\u001b[0;34m\u001b[0m\u001b[0;34m\u001b[0m\u001b[0m\n",
            "\u001b[0;32m/usr/local/lib/python3.7/dist-packages/tensorflow/python/eager/def_function.py\u001b[0m in \u001b[0;36m_call\u001b[0;34m(self, *args, **kwds)\u001b[0m\n\u001b[1;32m    915\u001b[0m       \u001b[0;31m# In this case we have created variables on the first call, so we run the\u001b[0m\u001b[0;34m\u001b[0m\u001b[0;34m\u001b[0m\u001b[0;34m\u001b[0m\u001b[0m\n\u001b[1;32m    916\u001b[0m       \u001b[0;31m# defunned version which is guaranteed to never create variables.\u001b[0m\u001b[0;34m\u001b[0m\u001b[0;34m\u001b[0m\u001b[0;34m\u001b[0m\u001b[0m\n\u001b[0;32m--> 917\u001b[0;31m       \u001b[0;32mreturn\u001b[0m \u001b[0mself\u001b[0m\u001b[0;34m.\u001b[0m\u001b[0m_stateless_fn\u001b[0m\u001b[0;34m(\u001b[0m\u001b[0;34m*\u001b[0m\u001b[0margs\u001b[0m\u001b[0;34m,\u001b[0m \u001b[0;34m**\u001b[0m\u001b[0mkwds\u001b[0m\u001b[0;34m)\u001b[0m  \u001b[0;31m# pylint: disable=not-callable\u001b[0m\u001b[0;34m\u001b[0m\u001b[0;34m\u001b[0m\u001b[0m\n\u001b[0m\u001b[1;32m    918\u001b[0m     \u001b[0;32melif\u001b[0m \u001b[0mself\u001b[0m\u001b[0;34m.\u001b[0m\u001b[0m_stateful_fn\u001b[0m \u001b[0;32mis\u001b[0m \u001b[0;32mnot\u001b[0m \u001b[0;32mNone\u001b[0m\u001b[0;34m:\u001b[0m\u001b[0;34m\u001b[0m\u001b[0;34m\u001b[0m\u001b[0m\n\u001b[1;32m    919\u001b[0m       \u001b[0;31m# Release the lock early so that multiple threads can perform the call\u001b[0m\u001b[0;34m\u001b[0m\u001b[0;34m\u001b[0m\u001b[0;34m\u001b[0m\u001b[0m\n",
            "\u001b[0;32m/usr/local/lib/python3.7/dist-packages/tensorflow/python/eager/function.py\u001b[0m in \u001b[0;36m__call__\u001b[0;34m(self, *args, **kwargs)\u001b[0m\n\u001b[1;32m   3038\u001b[0m        filtered_flat_args) = self._maybe_define_function(args, kwargs)\n\u001b[1;32m   3039\u001b[0m     return graph_function._call_flat(\n\u001b[0;32m-> 3040\u001b[0;31m         filtered_flat_args, captured_inputs=graph_function.captured_inputs)  # pylint: disable=protected-access\n\u001b[0m\u001b[1;32m   3041\u001b[0m \u001b[0;34m\u001b[0m\u001b[0m\n\u001b[1;32m   3042\u001b[0m   \u001b[0;34m@\u001b[0m\u001b[0mproperty\u001b[0m\u001b[0;34m\u001b[0m\u001b[0;34m\u001b[0m\u001b[0m\n",
            "\u001b[0;32m/usr/local/lib/python3.7/dist-packages/tensorflow/python/eager/function.py\u001b[0m in \u001b[0;36m_call_flat\u001b[0;34m(self, args, captured_inputs, cancellation_manager)\u001b[0m\n\u001b[1;32m   1962\u001b[0m       \u001b[0;31m# No tape is watching; skip to running the function.\u001b[0m\u001b[0;34m\u001b[0m\u001b[0;34m\u001b[0m\u001b[0;34m\u001b[0m\u001b[0m\n\u001b[1;32m   1963\u001b[0m       return self._build_call_outputs(self._inference_function.call(\n\u001b[0;32m-> 1964\u001b[0;31m           ctx, args, cancellation_manager=cancellation_manager))\n\u001b[0m\u001b[1;32m   1965\u001b[0m     forward_backward = self._select_forward_and_backward_functions(\n\u001b[1;32m   1966\u001b[0m         \u001b[0margs\u001b[0m\u001b[0;34m,\u001b[0m\u001b[0;34m\u001b[0m\u001b[0;34m\u001b[0m\u001b[0m\n",
            "\u001b[0;32m/usr/local/lib/python3.7/dist-packages/tensorflow/python/eager/function.py\u001b[0m in \u001b[0;36mcall\u001b[0;34m(self, ctx, args, cancellation_manager)\u001b[0m\n\u001b[1;32m    594\u001b[0m               \u001b[0minputs\u001b[0m\u001b[0;34m=\u001b[0m\u001b[0margs\u001b[0m\u001b[0;34m,\u001b[0m\u001b[0;34m\u001b[0m\u001b[0;34m\u001b[0m\u001b[0m\n\u001b[1;32m    595\u001b[0m               \u001b[0mattrs\u001b[0m\u001b[0;34m=\u001b[0m\u001b[0mattrs\u001b[0m\u001b[0;34m,\u001b[0m\u001b[0;34m\u001b[0m\u001b[0;34m\u001b[0m\u001b[0m\n\u001b[0;32m--> 596\u001b[0;31m               ctx=ctx)\n\u001b[0m\u001b[1;32m    597\u001b[0m         \u001b[0;32melse\u001b[0m\u001b[0;34m:\u001b[0m\u001b[0;34m\u001b[0m\u001b[0;34m\u001b[0m\u001b[0m\n\u001b[1;32m    598\u001b[0m           outputs = execute.execute_with_cancellation(\n",
            "\u001b[0;32m/usr/local/lib/python3.7/dist-packages/tensorflow/python/eager/execute.py\u001b[0m in \u001b[0;36mquick_execute\u001b[0;34m(op_name, num_outputs, inputs, attrs, ctx, name)\u001b[0m\n\u001b[1;32m     58\u001b[0m     \u001b[0mctx\u001b[0m\u001b[0;34m.\u001b[0m\u001b[0mensure_initialized\u001b[0m\u001b[0;34m(\u001b[0m\u001b[0;34m)\u001b[0m\u001b[0;34m\u001b[0m\u001b[0;34m\u001b[0m\u001b[0m\n\u001b[1;32m     59\u001b[0m     tensors = pywrap_tfe.TFE_Py_Execute(ctx._handle, device_name, op_name,\n\u001b[0;32m---> 60\u001b[0;31m                                         inputs, attrs, num_outputs)\n\u001b[0m\u001b[1;32m     61\u001b[0m   \u001b[0;32mexcept\u001b[0m \u001b[0mcore\u001b[0m\u001b[0;34m.\u001b[0m\u001b[0m_NotOkStatusException\u001b[0m \u001b[0;32mas\u001b[0m \u001b[0me\u001b[0m\u001b[0;34m:\u001b[0m\u001b[0;34m\u001b[0m\u001b[0;34m\u001b[0m\u001b[0m\n\u001b[1;32m     62\u001b[0m     \u001b[0;32mif\u001b[0m \u001b[0mname\u001b[0m \u001b[0;32mis\u001b[0m \u001b[0;32mnot\u001b[0m \u001b[0;32mNone\u001b[0m\u001b[0;34m:\u001b[0m\u001b[0;34m\u001b[0m\u001b[0;34m\u001b[0m\u001b[0m\n",
            "\u001b[0;31mKeyboardInterrupt\u001b[0m: "
          ]
        }
      ]
    },
    {
      "cell_type": "markdown",
      "metadata": {
        "id": "FajUAidsY-lU"
      },
      "source": [
        "Predição de uma imagem, baseado no modelo desenvolvido."
      ]
    },
    {
      "cell_type": "code",
      "metadata": {
        "id": "BlhEJwjMBEel"
      },
      "source": [
        "dir = '/content/drive/My Drive/TEES/Trabalho/ISIC2018_Task3_Test_Images/'\n",
        "result = np.zeros((2000, 7))\n",
        "j = 0\n",
        "for i in os.listdir(dir):\n",
        "  test_image = image.load_img(dir+i, target_size = (255, 255))\n",
        "  test_image = image.img_to_array(test_image)\n",
        "  test_image = np.expand_dims(test_image, axis = 0)\n",
        "  result[j] = cnn.predict(test_image)\n",
        "  j += 1\n",
        "  data_val.class_indices\n",
        "  if result[j][0] == 1:\n",
        "    print('Actinic keratoses and intraepithelial carcinoma(sun burn - Benign)')\n",
        "  elif result[j][1] == 1:\n",
        "    print('Basal Cell Carcinoma (Malign)')\n",
        "  elif result[j][2] == 1:\n",
        "    print('Benign Keratosis-like Lesions (Benign)')\n",
        "  elif result[j][3] == 1:\n",
        "    print('Dermatofibroma (Benign)')\n",
        "  elif result[j][4] == 1:\n",
        "    print('Melanoma (Malign)')\n",
        "  elif result[j][5] == 1:\n",
        "    print('Melanocytic Nevi (Benign)')\n",
        "  elif result[j][6] == 1:\n",
        "    print('Vascular Lesions (Benign)')"
      ],
      "execution_count": null,
      "outputs": []
    },
    {
      "cell_type": "code",
      "metadata": {
        "id": "Xh0lOUwsaOQS"
      },
      "source": [
        ""
      ],
      "execution_count": null,
      "outputs": []
    },
    {
      "cell_type": "code",
      "metadata": {
        "colab": {
          "base_uri": "https://localhost:8080/",
          "height": 163
        },
        "id": "TdF54qRRaREw",
        "outputId": "21976dba-9e6d-4eac-c18c-f5c0db3315e5"
      },
      "source": [
        ""
      ],
      "execution_count": null,
      "outputs": [
        {
          "output_type": "error",
          "ename": "NameError",
          "evalue": "ignored",
          "traceback": [
            "\u001b[0;31m---------------------------------------------------------------------------\u001b[0m",
            "\u001b[0;31mNameError\u001b[0m                                 Traceback (most recent call last)",
            "\u001b[0;32m<ipython-input-2-3eae29180cc7>\u001b[0m in \u001b[0;36m<module>\u001b[0;34m()\u001b[0m\n\u001b[0;32m----> 1\u001b[0;31m \u001b[0mrequirements\u001b[0m\u001b[0;34m.\u001b[0m\u001b[0mtxt\u001b[0m\u001b[0;34m\u001b[0m\u001b[0;34m\u001b[0m\u001b[0m\n\u001b[0m",
            "\u001b[0;31mNameError\u001b[0m: name 'requirements' is not defined"
          ]
        }
      ]
    },
    {
      "cell_type": "code",
      "metadata": {
        "id": "wEC5Cq6Qaubo"
      },
      "source": [
        " "
      ],
      "execution_count": null,
      "outputs": []
    }
  ]
}