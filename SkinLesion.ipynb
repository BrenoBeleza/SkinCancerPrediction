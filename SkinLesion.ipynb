{
  "nbformat": 4,
  "nbformat_minor": 0,
  "metadata": {
    "colab": {
      "name": "SkinLesion.ipynb",
      "provenance": [],
      "collapsed_sections": []
    },
    "kernelspec": {
      "name": "python3",
      "display_name": "Python 3"
    },
    "language_info": {
      "name": "python"
    },
    "accelerator": "GPU"
  },
  "cells": [
    {
      "cell_type": "markdown",
      "metadata": {
        "id": "hxcqhvUFYL_n"
      },
      "source": [
        "# **Skin Cancer Detector**\n",
        "\n",
        "O projeto conta com a criação de uma rede neural capaz de realizar o aprendizado de máquina e reconhecimento de padrões para identificar e classificar uma imagem de lesão de pele baseado em 7 principais tipos:\n",
        "\n",
        "\n",
        "*  Nevo melanocítico: Distúrbio geralmente não cancerígeno das células da pele produtoras de pigmento, comumente chamado de marcas de nascença ou pintas.\n",
        "*   Melanoma: O tipo mais grave de câncer de pele. O melanoma ocorre quando as células produtoras dos pigmentos que dão cor à pele tornam-se cancerígenas.\n",
        "*   Verruga seborreica: Condição de pele benigna com aspecto de um nódulo maleável de cor castanha, preta ou marrom. A ceratose seborreica é um dos tumores de pele benignos mais comuns em idosos. Embora existam casos de tumores individuais, a presença de vários tumores é mais comum.\n",
        "*   Carcinoma basocelular: Tipo de câncer de pele que começa nas células basais. As células basais produzem novas células da pele conforme as antigas morrem. Limitar a exposição ao sol pode ajudar a evitar que essas células se tornem cancerígenas. Esse tipo de câncer geralmente aparece como um nódulo de cera branco ou uma mancha escamosa marrom em áreas expostas ao sol, como rosto e pescoço.\n",
        "*   Ceratose actínica: Mancha escamosa áspera na pele causada por anos de exposição ao sol. A ceratose actínica geralmente afeta idosos. Reduzir a exposição ao sol pode ajudar a diminuir o risco. É mais comum no rosto, nos lábios, nas orelhas, no dorso das mãos, nos antebraços, no couro cabeludo e no pescoço. A pele escamosa e áspera aumenta lentamente e não costuma causar outros sinais ou sintomas. A lesão pode levar anos para se desenvolver.\n",
        "*   Lesões vasculares: As anomalias vasculares correspondem a um extenso espectro de alterações que se dividem em dois grupos principais: 1) tumores vasculares, que representam as lesões proliferativas e 2) malformações vasculares, originadas por ectasias nos vasos, sejam elas capilares, venosas ou linfáticas.\n",
        "*   Dermatofibroma: lesões benignas típicas de extremidades, como braços, antebraços e pernas. Por terem coloração acastanhada, geralmente, são motivos de consulta, na qual os pacientes buscam saber se são pintas ou sinais.\n",
        "\n",
        "\n",
        "Realizando com precisão a classificação será possível então direcionar o melhor tratamento possível.\n",
        "\n",
        "\n",
        "Começamos o projeto importanto a base de dados das imagens que estavam alocadas no drive do trabalho.\n"
      ]
    },
    {
      "cell_type": "code",
      "metadata": {
        "id": "jsXhTQtIBOJq",
        "colab": {
          "base_uri": "https://localhost:8080/"
        },
        "outputId": "4dc2b715-5c29-48e6-aaec-b6c03dc6928e"
      },
      "source": [
        "from google.colab import drive\n",
        "drive.mount('/content/drive/', force_remount=True)"
      ],
      "execution_count": null,
      "outputs": [
        {
          "output_type": "stream",
          "name": "stdout",
          "text": [
            "Mounted at /content/drive/\n"
          ]
        }
      ]
    },
    {
      "cell_type": "markdown",
      "metadata": {
        "id": "_oLK-7Z6ZJUT"
      },
      "source": [
        "Importamos todas as bibliotecas que serão necessárias ao longo do desenvolvimento da nossa rede neural"
      ]
    },
    {
      "cell_type": "code",
      "metadata": {
        "id": "7LQWlyQ1MYx6"
      },
      "source": [
        "import os\n",
        "import numpy as np\n",
        "import pandas as pd \n",
        "import tensorflow as tf\n",
        "from keras.preprocessing.image import ImageDataGenerator\n",
        "from keras.preprocessing import image\n",
        "from sklearn.metrics import classification_report, confusion_matrix\n",
        "import matplotlib.pyplot as plt\n",
        "import seaborn as sns\n",
        "from keras.layers import Dropout"
      ],
      "execution_count": null,
      "outputs": []
    },
    {
      "cell_type": "markdown",
      "metadata": {
        "id": "GJVxseRGaJex"
      },
      "source": [
        "Abrimos o arquivo que continha a classificação para cada imagem do dataset de treino e dataset de validação."
      ]
    },
    {
      "cell_type": "code",
      "metadata": {
        "colab": {
          "base_uri": "https://localhost:8080/",
          "height": 203
        },
        "id": "FoimGh9_tI5n",
        "outputId": "bbddcbbe-02ed-4446-d739-8487c07dab42"
      },
      "source": [
        "metadata = pd.read_csv('/content/drive/My Drive/TEES/Trabalho/HAM10000_metadata')\n",
        "metadata.head()"
      ],
      "execution_count": null,
      "outputs": [
        {
          "output_type": "execute_result",
          "data": {
            "text/html": [
              "<div>\n",
              "<style scoped>\n",
              "    .dataframe tbody tr th:only-of-type {\n",
              "        vertical-align: middle;\n",
              "    }\n",
              "\n",
              "    .dataframe tbody tr th {\n",
              "        vertical-align: top;\n",
              "    }\n",
              "\n",
              "    .dataframe thead th {\n",
              "        text-align: right;\n",
              "    }\n",
              "</style>\n",
              "<table border=\"1\" class=\"dataframe\">\n",
              "  <thead>\n",
              "    <tr style=\"text-align: right;\">\n",
              "      <th></th>\n",
              "      <th>lesion_id</th>\n",
              "      <th>image_id</th>\n",
              "      <th>dx</th>\n",
              "      <th>dx_type</th>\n",
              "      <th>age</th>\n",
              "      <th>sex</th>\n",
              "      <th>localization</th>\n",
              "      <th>dataset</th>\n",
              "    </tr>\n",
              "  </thead>\n",
              "  <tbody>\n",
              "    <tr>\n",
              "      <th>0</th>\n",
              "      <td>HAM_0000118</td>\n",
              "      <td>ISIC_0027419</td>\n",
              "      <td>bkl</td>\n",
              "      <td>histo</td>\n",
              "      <td>80.0</td>\n",
              "      <td>male</td>\n",
              "      <td>scalp</td>\n",
              "      <td>vidir_modern</td>\n",
              "    </tr>\n",
              "    <tr>\n",
              "      <th>1</th>\n",
              "      <td>HAM_0000118</td>\n",
              "      <td>ISIC_0025030</td>\n",
              "      <td>bkl</td>\n",
              "      <td>histo</td>\n",
              "      <td>80.0</td>\n",
              "      <td>male</td>\n",
              "      <td>scalp</td>\n",
              "      <td>vidir_modern</td>\n",
              "    </tr>\n",
              "    <tr>\n",
              "      <th>2</th>\n",
              "      <td>HAM_0002730</td>\n",
              "      <td>ISIC_0026769</td>\n",
              "      <td>bkl</td>\n",
              "      <td>histo</td>\n",
              "      <td>80.0</td>\n",
              "      <td>male</td>\n",
              "      <td>scalp</td>\n",
              "      <td>vidir_modern</td>\n",
              "    </tr>\n",
              "    <tr>\n",
              "      <th>3</th>\n",
              "      <td>HAM_0002730</td>\n",
              "      <td>ISIC_0025661</td>\n",
              "      <td>bkl</td>\n",
              "      <td>histo</td>\n",
              "      <td>80.0</td>\n",
              "      <td>male</td>\n",
              "      <td>scalp</td>\n",
              "      <td>vidir_modern</td>\n",
              "    </tr>\n",
              "    <tr>\n",
              "      <th>4</th>\n",
              "      <td>HAM_0001466</td>\n",
              "      <td>ISIC_0031633</td>\n",
              "      <td>bkl</td>\n",
              "      <td>histo</td>\n",
              "      <td>75.0</td>\n",
              "      <td>male</td>\n",
              "      <td>ear</td>\n",
              "      <td>vidir_modern</td>\n",
              "    </tr>\n",
              "  </tbody>\n",
              "</table>\n",
              "</div>"
            ],
            "text/plain": [
              "     lesion_id      image_id   dx  ...   sex  localization       dataset\n",
              "0  HAM_0000118  ISIC_0027419  bkl  ...  male         scalp  vidir_modern\n",
              "1  HAM_0000118  ISIC_0025030  bkl  ...  male         scalp  vidir_modern\n",
              "2  HAM_0002730  ISIC_0026769  bkl  ...  male         scalp  vidir_modern\n",
              "3  HAM_0002730  ISIC_0025661  bkl  ...  male         scalp  vidir_modern\n",
              "4  HAM_0001466  ISIC_0031633  bkl  ...  male           ear  vidir_modern\n",
              "\n",
              "[5 rows x 8 columns]"
            ]
          },
          "metadata": {},
          "execution_count": 9
        }
      ]
    },
    {
      "cell_type": "code",
      "metadata": {
        "colab": {
          "base_uri": "https://localhost:8080/",
          "height": 203
        },
        "id": "Svq-zztsPvIk",
        "outputId": "68ce62bc-c2fc-430b-e70e-b299170b062d"
      },
      "source": [
        "metadata_validation = pd.read_csv('/content/drive/My Drive/TEES/Trabalho/metadata_validation.csv')\n",
        "metadata_validation.head()"
      ],
      "execution_count": null,
      "outputs": [
        {
          "output_type": "execute_result",
          "data": {
            "text/html": [
              "<div>\n",
              "<style scoped>\n",
              "    .dataframe tbody tr th:only-of-type {\n",
              "        vertical-align: middle;\n",
              "    }\n",
              "\n",
              "    .dataframe tbody tr th {\n",
              "        vertical-align: top;\n",
              "    }\n",
              "\n",
              "    .dataframe thead th {\n",
              "        text-align: right;\n",
              "    }\n",
              "</style>\n",
              "<table border=\"1\" class=\"dataframe\">\n",
              "  <thead>\n",
              "    <tr style=\"text-align: right;\">\n",
              "      <th></th>\n",
              "      <th>image</th>\n",
              "      <th>MEL</th>\n",
              "      <th>NV</th>\n",
              "      <th>BCC</th>\n",
              "      <th>AKIEC</th>\n",
              "      <th>BKL</th>\n",
              "      <th>DF</th>\n",
              "      <th>VASC</th>\n",
              "    </tr>\n",
              "  </thead>\n",
              "  <tbody>\n",
              "    <tr>\n",
              "      <th>0</th>\n",
              "      <td>ISIC_0034321</td>\n",
              "      <td>0.0</td>\n",
              "      <td>1.0</td>\n",
              "      <td>0.0</td>\n",
              "      <td>0.0</td>\n",
              "      <td>0.0</td>\n",
              "      <td>0.0</td>\n",
              "      <td>0.0</td>\n",
              "    </tr>\n",
              "    <tr>\n",
              "      <th>1</th>\n",
              "      <td>ISIC_0034322</td>\n",
              "      <td>0.0</td>\n",
              "      <td>1.0</td>\n",
              "      <td>0.0</td>\n",
              "      <td>0.0</td>\n",
              "      <td>0.0</td>\n",
              "      <td>0.0</td>\n",
              "      <td>0.0</td>\n",
              "    </tr>\n",
              "    <tr>\n",
              "      <th>2</th>\n",
              "      <td>ISIC_0034323</td>\n",
              "      <td>0.0</td>\n",
              "      <td>0.0</td>\n",
              "      <td>1.0</td>\n",
              "      <td>0.0</td>\n",
              "      <td>0.0</td>\n",
              "      <td>0.0</td>\n",
              "      <td>0.0</td>\n",
              "    </tr>\n",
              "    <tr>\n",
              "      <th>3</th>\n",
              "      <td>ISIC_0034324</td>\n",
              "      <td>0.0</td>\n",
              "      <td>1.0</td>\n",
              "      <td>0.0</td>\n",
              "      <td>0.0</td>\n",
              "      <td>0.0</td>\n",
              "      <td>0.0</td>\n",
              "      <td>0.0</td>\n",
              "    </tr>\n",
              "    <tr>\n",
              "      <th>4</th>\n",
              "      <td>ISIC_0034325</td>\n",
              "      <td>0.0</td>\n",
              "      <td>1.0</td>\n",
              "      <td>0.0</td>\n",
              "      <td>0.0</td>\n",
              "      <td>0.0</td>\n",
              "      <td>0.0</td>\n",
              "      <td>0.0</td>\n",
              "    </tr>\n",
              "  </tbody>\n",
              "</table>\n",
              "</div>"
            ],
            "text/plain": [
              "          image  MEL   NV  BCC  AKIEC  BKL   DF  VASC\n",
              "0  ISIC_0034321  0.0  1.0  0.0    0.0  0.0  0.0   0.0\n",
              "1  ISIC_0034322  0.0  1.0  0.0    0.0  0.0  0.0   0.0\n",
              "2  ISIC_0034323  0.0  0.0  1.0    0.0  0.0  0.0   0.0\n",
              "3  ISIC_0034324  0.0  1.0  0.0    0.0  0.0  0.0   0.0\n",
              "4  ISIC_0034325  0.0  1.0  0.0    0.0  0.0  0.0   0.0"
            ]
          },
          "metadata": {},
          "execution_count": 10
        }
      ]
    },
    {
      "cell_type": "markdown",
      "metadata": {
        "id": "OCIXz84maS-I"
      },
      "source": [
        "\n",
        "Agrupamos as imagens do dataset que estava fragmentado em duas pastas por conta do tamanho e quantidade em apenas uma pasta."
      ]
    },
    {
      "cell_type": "code",
      "metadata": {
        "id": "UjpplPRytitT"
      },
      "source": [
        "# It's not necessary to run this cell again\n",
        "old_path1 = '/content/drive/My Drive/TEES/Trabalho/HAM10000_part_2/'\n",
        "new_path1 = '/content/drive/My Drive/TEES/Trabalho/HAM10000_part_1/'\n",
        "archives = os.listdir(old_path1)\n",
        "for i in archives:\n",
        "  os.replace((old_path1+i), (new_path1+i))"
      ],
      "execution_count": null,
      "outputs": []
    },
    {
      "cell_type": "markdown",
      "metadata": {
        "id": "YbWoFY1TojCc"
      },
      "source": [
        "Checando a quantidade de imagens da pasta original e da pasta de destino"
      ]
    },
    {
      "cell_type": "code",
      "metadata": {
        "colab": {
          "base_uri": "https://localhost:8080/"
        },
        "id": "RMxBpZMODRnd",
        "outputId": "399684a0-50ff-43c6-f463-dcbed89c3910"
      },
      "source": [
        "# Number of images in the folders\n",
        "print(len(os.listdir(old_path1)))\n",
        "print(len(os.listdir(new_path1))) "
      ],
      "execution_count": null,
      "outputs": [
        {
          "output_type": "stream",
          "name": "stdout",
          "text": [
            "0\n",
            "10015\n"
          ]
        }
      ]
    },
    {
      "cell_type": "markdown",
      "metadata": {
        "id": "Bl2x4vYo39ho"
      },
      "source": [
        "Representando de forma gráfica o número de imagens por tipo de lesão contidas no dataset de treino."
      ]
    },
    {
      "cell_type": "code",
      "metadata": {
        "id": "gzHqKFGn37gT",
        "colab": {
          "base_uri": "https://localhost:8080/",
          "height": 357
        },
        "outputId": "4e5912d3-7c7b-4428-bf46-7a8d684d2215"
      },
      "source": [
        "\n",
        "\n",
        "sns.countplot(metadata['dx'], order = metadata['dx'].value_counts().index)\n",
        "plt.xlabel(\"Tipo de lesão\", size = 14)\n",
        "plt.ylabel(\"Número de imagens\", size = 14)"
      ],
      "execution_count": null,
      "outputs": [
        {
          "output_type": "stream",
          "name": "stderr",
          "text": [
            "/usr/local/lib/python3.7/dist-packages/seaborn/_decorators.py:43: FutureWarning: Pass the following variable as a keyword arg: x. From version 0.12, the only valid positional argument will be `data`, and passing other arguments without an explicit keyword will result in an error or misinterpretation.\n",
            "  FutureWarning\n"
          ]
        },
        {
          "output_type": "execute_result",
          "data": {
            "text/plain": [
              "Text(0, 0.5, 'Número de imagens')"
            ]
          },
          "metadata": {},
          "execution_count": 11
        },
        {
          "output_type": "display_data",
          "data": {
            "image/png": "[encoded data removed]",
            "text/plain": [
              "<Figure size 432x288 with 1 Axes>"
            ]
          },
          "metadata": {
            "needs_background": "light"
          }
        }
      ]
    },
    {
      "cell_type": "markdown",
      "metadata": {
        "id": "rj9YEt_WadYg"
      },
      "source": [
        "Organizando as imagens em pastas representando suas classes"
      ]
    },
    {
      "cell_type": "code",
      "metadata": {
        "id": "SZtA7a3atX3j"
      },
      "source": [
        "# It's not necessary to run this cell again\n",
        "\n",
        "old_path_2 = '/content/drive/My Drive/TEES/Trabalho/HAM10000_part_1/'\n",
        "new_path_2 = '/content/drive/My Drive/TEES/Trabalho/dataset/'\n",
        "\n",
        "for i in range(0, len(metadata)):\n",
        "  os.replace(old_path_2+metadata.image_id[i]+'.jpg', new_path_2+metadata.dx[i]+\"/\"+metadata.image_id[i]+'.jpg')"
      ],
      "execution_count": null,
      "outputs": []
    },
    {
      "cell_type": "markdown",
      "metadata": {
        "id": "BhpOXbjOolGc"
      },
      "source": [
        "Movendo as imagens para subpastas para duplicá-las"
      ]
    },
    {
      "cell_type": "code",
      "metadata": {
        "id": "ptro43YLTXDd"
      },
      "source": [
        "#Not necessary to run this cell again\n",
        "old_path_2_1 = '/content/drive/My Drive/TEES/Trabalho/dataset/akiec/'\n",
        "new_path_2_1 = '/content/drive/My Drive/TEES/Trabalho/dataset/akiec/0/'\n",
        "\n",
        "for i in os.listdir(old_path_2_1):\n",
        "  if i == '0':\n",
        "    pass\n",
        "  else:\n",
        "    os.replace(old_path_2_1+i, new_path_2_1+i)\n",
        "\n",
        "old_path_2_2 = '/content/drive/My Drive/TEES/Trabalho/dataset/bcc/'\n",
        "new_path_2_2 = '/content/drive/My Drive/TEES/Trabalho/dataset/bcc/1/'\n",
        "\n",
        "for i in os.listdir(old_path_2_2):\n",
        "  if i == '1':\n",
        "    pass\n",
        "  else:\n",
        "    os.replace(old_path_2_2+i, new_path_2_2+i)\n",
        "\n",
        "old_path_2_3 = '/content/drive/My Drive/TEES/Trabalho/dataset/bkl/'\n",
        "new_path_2_3 = '/content/drive/My Drive/TEES/Trabalho/dataset/bkl/2/'\n",
        "\n",
        "for i in os.listdir(old_path_2_3):\n",
        "  if i == '2':\n",
        "    pass\n",
        "  else:\n",
        "    os.replace(old_path_2_3+i, new_path_2_3+i)\n",
        "\n",
        "old_path_2_4 = '/content/drive/My Drive/TEES/Trabalho/dataset/df/'\n",
        "new_path_2_4 = '/content/drive/My Drive/TEES/Trabalho/dataset/df/3/'\n",
        "\n",
        "for i in os.listdir(old_path_2_4):\n",
        "  if i == '3':\n",
        "    pass\n",
        "  else:\n",
        "    os.replace(old_path_2_4+i, new_path_2_4+i)\n",
        "\n",
        "old_path_2_5 = '/content/drive/My Drive/TEES/Trabalho/dataset/mel/'\n",
        "new_path_2_5 = '/content/drive/My Drive/TEES/Trabalho/dataset/mel/4/'\n",
        "\n",
        "for i in os.listdir(old_path_2_5):\n",
        "  if i == '4':\n",
        "    pass\n",
        "  else:\n",
        "    os.replace(old_path_2_5+i, new_path_2_5+i)\n",
        "\n",
        "old_path_2_6 = '/content/drive/My Drive/TEES/Trabalho/dataset/nv/'\n",
        "new_path_2_6 = '/content/drive/My Drive/TEES/Trabalho/dataset/nv/5/'\n",
        "\n",
        "for i in os.listdir(old_path_2_6):\n",
        "  if i == '5':\n",
        "    pass\n",
        "  else:\n",
        "    os.replace(old_path_2_6+i, new_path_2_6+i)\n",
        "\n",
        "old_path_2_7 = '/content/drive/My Drive/TEES/Trabalho/dataset/vasc/'\n",
        "new_path_2_7 = '/content/drive/My Drive/TEES/Trabalho/dataset/vasc/6/'\n",
        "\n",
        "for i in os.listdir(old_path_2_7):\n",
        "  if i == '6':\n",
        "    pass\n",
        "  else:\n",
        "    os.replace(old_path_2_7+i, new_path_2_7+i)"
      ],
      "execution_count": null,
      "outputs": []
    },
    {
      "cell_type": "markdown",
      "metadata": {
        "id": "_7Ffgk9kpZgQ"
      },
      "source": [
        "Duplicando as imagens do dataset de treino"
      ]
    },
    {
      "cell_type": "code",
      "metadata": {
        "colab": {
          "base_uri": "https://localhost:8080/"
        },
        "id": "mXYr4qMgYT3X",
        "outputId": "9894ea34-397c-437d-ca5e-5c65564a8fe1"
      },
      "source": [
        "#Duplicating the dataset images\n",
        "#Not necessary to run this cell again\n",
        "directory = '/content/drive/My Drive/TEES/Trabalho/dataset/df/'\n",
        "datagen = ImageDataGenerator(rescale = 1./255,\n",
        "                             horizontal_flip = True,\n",
        "                             vertical_flip = True,\n",
        "                             zoom_range = 0.3,\n",
        "                             shear_range = 0.3,\n",
        "                             rotation_range = 100\n",
        "                            )\n",
        "\n",
        "duplicates = datagen.flow_from_directory(directory = directory, \n",
        "                                target_size = (255, 255), \n",
        "                                save_to_dir = directory+'3/',\n",
        "                                save_format = 'jpg',\n",
        "                                # batch_size = len(os.listdir(directory+'6/'))\n",
        "                                batch_size = 900\n",
        "                                )\n",
        "duplicates.next()"
      ],
      "execution_count": null,
      "outputs": [
        {
          "output_type": "stream",
          "name": "stdout",
          "text": [
            "Found 5680 images belonging to 1 classes.\n"
          ]
        }
      ]
    },
    {
      "cell_type": "markdown",
      "metadata": {
        "id": "aWdXZIk_pd1M"
      },
      "source": [
        "Movendo as imagens de volta para a pasta original de classe"
      ]
    },
    {
      "cell_type": "code",
      "metadata": {
        "id": "KFl0Zj2YDVQr"
      },
      "source": [
        "#Not necessary to run this cell again\n",
        "for i in os.listdir(directory+'3/'):\n",
        "  os.replace(directory+'3/'+i, directory+i)"
      ],
      "execution_count": null,
      "outputs": []
    },
    {
      "cell_type": "markdown",
      "metadata": {
        "id": "CqwaYZAlp91D"
      },
      "source": [
        "Reduzindo o número de imagens para cada classe"
      ]
    },
    {
      "cell_type": "code",
      "metadata": {
        "id": "zOhbbpmp5LKC"
      },
      "source": [
        "#Not necessary to run this cell again\n",
        "dir_orig = '/content/drive/My Drive/TEES/Trabalho/dataset/vasc/'\n",
        "dir_dest = '/content/drive/My Drive/TEES/Trabalho/dataset_nao_utilizado/vasc/'\n",
        "\n",
        "i = 0\n",
        "for img in os.listdir(dir_orig):\n",
        "  if i%4 == 0:\n",
        "    pass\n",
        "  else:\n",
        "    os.replace(dir_orig+img, dir_dest+img)\n",
        "  i += 1"
      ],
      "execution_count": null,
      "outputs": []
    },
    {
      "cell_type": "markdown",
      "metadata": {
        "id": "aEXLtDAf5yIB"
      },
      "source": [
        "Representação gráfica do número de imagens após o balanceamento."
      ]
    },
    {
      "cell_type": "code",
      "metadata": {
        "id": "H_1PMYU25Mjl",
        "colab": {
          "base_uri": "https://localhost:8080/",
          "height": 300
        },
        "outputId": "1da86f3e-aa6f-4b78-bc59-cff1154c8b1c"
      },
      "source": [
        "new_path_x = '/content/drive/My Drive/TEES/Trabalho/dataset/'\n",
        "akiec = len(os.listdir(new_path_x+'akiec'))\n",
        "bcc = (len(os.listdir(new_path_x+'bcc')))\n",
        "bkl = (len(os.listdir(new_path_x+'bkl')))\n",
        "df = (len(os.listdir(new_path_x+'df')))\n",
        "mel = (len(os.listdir(new_path_x+'mel')))\n",
        "nv = (len(os.listdir(new_path_x+'nv')))\n",
        "vasc = (len(os.listdir(new_path_x+'vasc')))\n",
        "array = [nv, mel, bkl, bcc, akiec, vasc, df]\n",
        "labels = ['nv', 'mel', 'bkl', 'bcc', 'akiec', 'vasc', 'df']\n",
        "\n",
        "sns.barplot(x = labels,y = array)\n",
        "plt.xlabel(\"Tipo de lesão\", size = 14)\n",
        "plt.ylabel(\"Número de imagens\", size = 14)"
      ],
      "execution_count": null,
      "outputs": [
        {
          "output_type": "execute_result",
          "data": {
            "text/plain": [
              "Text(0, 0.5, 'Número de imagens')"
            ]
          },
          "metadata": {},
          "execution_count": 12
        },
        {
          "output_type": "display_data",
          "data": {
            "image/png": "[encoded data removed]",
            "text/plain": [
              "<Figure size 432x288 with 1 Axes>"
            ]
          },
          "metadata": {
            "needs_background": "light"
          }
        }
      ]
    },
    {
      "cell_type": "markdown",
      "metadata": {
        "id": "4KEcpJT9sLdd"
      },
      "source": [
        "Agora organizando o dataset de validação"
      ]
    },
    {
      "cell_type": "code",
      "metadata": {
        "id": "qD5GjvoOPxg2"
      },
      "source": [
        "#It's not necessary to run this cell again\n",
        "path3 = '/content/drive/My Drive/TEES/Trabalho/dataset_validation/'\n",
        "\n",
        "for i in range(0, len(metadata_validation)):\n",
        "  if metadata_validation.MEL[i] == 1.0:\n",
        "    if os.path.isdir(path3+metadata_validation.image[i]+'.jpg'):\n",
        "      os.replace((path3+metadata_validation.image[i]+'.jpg'), path3+'mel/'+metadata_validation.image[i]+'.jpg')\n",
        "    else:\n",
        "      pass\n",
        "  elif metadata_validation.NV[i] == 1.0:\n",
        "    if os.path.isdir(path3+metadata_validation.image[i]+'.jpg'):\n",
        "      os.replace((path3+metadata_validation.image[i]+'.jpg'), path3+'nv/'+metadata_validation.image[i]+'.jpg')\n",
        "    else:\n",
        "      pass\n",
        "  elif metadata_validation.BCC[i] == 1.0:\n",
        "    if os.path.isdir(path3+metadata_validation.image[i]+'.jpg'):\n",
        "      os.replace((path3+metadata_validation.image[i]+'.jpg'), path3+'bcc/'+metadata_validation.image[i]+'.jpg')\n",
        "    else:\n",
        "      pass\n",
        "  elif metadata_validation.AKIEC[i] == 1.0:\n",
        "    if os.path.isdir(path3+metadata_validation.image[i]+'.jpg'):\n",
        "      os.replace((path3+metadata_validation.image[i]+'.jpg'), path3+'akiec/'+metadata_validation.image[i]+'.jpg')\n",
        "    else:\n",
        "      pass\n",
        "  elif metadata_validation.BKL[i] == 1.0:\n",
        "    if os.path.isdir(path3+metadata_validation.image[i]+'.jpg'):\n",
        "      os.replace((path3+metadata_validation.image[i]+'.jpg'), path3+'bkl/'+metadata_validation.image[i]+'.jpg')\n",
        "    else:\n",
        "      pass\n",
        "  elif metadata_validation.DF[i] == 1.0:\n",
        "    if os.path.isdir(path3+metadata_validation.image[i]+'.jpg'):\n",
        "      os.replace((path3+metadata_validation.image[i]+'.jpg'), path3+'df/'+metadata_validation.image[i]+'.jpg')\n",
        "    else:\n",
        "      pass\n",
        "  elif metadata_validation.VASC[i] == 1.0:\n",
        "    if os.path.isdir(path3+metadata_validation.image[i]+'.jpg'):\n",
        "      os.replace((path3+metadata_validation.image[i]+'.jpg'), path3+'vasc/'+metadata_validation.image[i]+'.jpg')\n",
        "    else:\n",
        "      pass"
      ],
      "execution_count": null,
      "outputs": []
    },
    {
      "cell_type": "markdown",
      "metadata": {
        "id": "J2h4spIKs5RD"
      },
      "source": [
        "Movendo as imagens de validação para subpastas para duplicá-las"
      ]
    },
    {
      "cell_type": "code",
      "metadata": {
        "id": "6HrNcQwr-W6I"
      },
      "source": [
        "old_path_3_1 = '/content/drive/My Drive/TEES/Trabalho/dataset_validation/vasc/'\n",
        "new_path_3_1 = '/content/drive/My Drive/TEES/Trabalho/dataset_validation/vasc/6/'\n",
        "\n",
        "for i in os.listdir(old_path_3_1):\n",
        "  if i == '6':\n",
        "    pass\n",
        "  else:\n",
        "    os.replace(old_path_3_1+i, new_path_3_1+i)\n"
      ],
      "execution_count": null,
      "outputs": []
    },
    {
      "cell_type": "markdown",
      "metadata": {
        "id": "EvZ63uyntnZ4"
      },
      "source": [
        "Duplicando as imagens de validação"
      ]
    },
    {
      "cell_type": "code",
      "metadata": {
        "colab": {
          "base_uri": "https://localhost:8080/"
        },
        "id": "_dXBO33Mfz5h",
        "outputId": "ddbf9dfd-581c-44a5-d5a2-1aacb8ca43e3"
      },
      "source": [
        "#Not necessary to run this cell again\n",
        "directory = '/content/drive/My Drive/TEES/Trabalho/dataset_validation/vasc/'\n",
        "datagen = ImageDataGenerator(rescale = 1./255,\n",
        "                             horizontal_flip = True,\n",
        "                             vertical_flip = True,\n",
        "                             zoom_range = 0.2,\n",
        "                             shear_range = 0.2,\n",
        "                             rotation_range = 150\n",
        "                            )\n",
        "\n",
        "duplicates = datagen.flow_from_directory(directory = directory, \n",
        "                                target_size = (255, 255), \n",
        "                                save_to_dir = directory+'6/',\n",
        "                                save_format = 'jpg',\n",
        "                                # batch_size = len(os.listdir(directory+'6/'))\n",
        "                                batch_size = 30\n",
        "                                )\n",
        "duplicates.next()"
      ],
      "execution_count": null,
      "outputs": [
        {
          "output_type": "stream",
          "name": "stdout",
          "text": [
            "Found 96 images belonging to 1 classes.\n"
          ]
        }
      ]
    },
    {
      "cell_type": "markdown",
      "metadata": {
        "id": "sMuhEWHrtxFD"
      },
      "source": [
        "Movendo as imagens de validação para as pastas originais de classe"
      ]
    },
    {
      "cell_type": "code",
      "metadata": {
        "id": "SngH6XTziYnT"
      },
      "source": [
        "#Not necessary to run this cell again\n",
        "directory = '/content/drive/My Drive/TEES/Trabalho/dataset_validation/nv/'\n",
        "for i in os.listdir(directory+'5/'):\n",
        "  os.replace(directory+'5/'+i, directory+i)"
      ],
      "execution_count": null,
      "outputs": []
    },
    {
      "cell_type": "markdown",
      "metadata": {
        "id": "i8ZcDCAkt_ia"
      },
      "source": [
        "Utilizando o ImageDataGenerator realizamos alteração de tamanho, zoom, direção e distorção do ângulo de algumas imagens do nosso dataset para generalizar as imagens e abranger um número maior de possibilidades de imagens."
      ]
    },
    {
      "cell_type": "code",
      "metadata": {
        "id": "dhfgG3j2k2_S"
      },
      "source": [
        "\n",
        "datagen = ImageDataGenerator(rescale = 1./255,\n",
        "                             shear_range = 0.2,\n",
        "                             zoom_range = 0.2,\n",
        "                             horizontal_flip = True,\n",
        "                             vertical_flip = True,\n",
        "                             rotation_range = 100)\n",
        "\n"
      ],
      "execution_count": null,
      "outputs": []
    },
    {
      "cell_type": "markdown",
      "metadata": {
        "id": "WAFcVCbQuZIs"
      },
      "source": [
        "Definimos o tamanho padrão das imagens e agrupamos, dividimos em grupos e aplicamos a transformação."
      ]
    },
    {
      "cell_type": "code",
      "metadata": {
        "id": "WD1t8Qr_uYa1",
        "colab": {
          "base_uri": "https://localhost:8080/"
        },
        "outputId": "d902d9a9-b180-4b51-948f-7b68ebe75011"
      },
      "source": [
        "data = datagen.flow_from_directory('/content/drive/My Drive/TEES/Trabalho/dataset/',\n",
        "                                                 target_size = (255, 255),\n",
        "                                                 batch_size = 32,\n",
        "                                                 class_mode = 'categorical')\n",
        "\n",
        "data_val = datagen.flow_from_directory('/content/drive/My Drive/TEES/Trabalho/dataset_validation/',\n",
        "                                                 target_size = (255, 255),\n",
        "                                                 batch_size = 32,\n",
        "                                                 class_mode = 'categorical')\n"
      ],
      "execution_count": null,
      "outputs": [
        {
          "output_type": "stream",
          "name": "stdout",
          "text": [
            "Found 11525 images belonging to 7 classes.\n",
            "Found 921 images belonging to 7 classes.\n"
          ]
        }
      ]
    },
    {
      "cell_type": "code",
      "metadata": {
        "id": "uhoTngIUur4L",
        "colab": {
          "base_uri": "https://localhost:8080/",
          "height": 332
        },
        "outputId": "8291a384-71bb-487a-fb06-b86501b6e94c"
      },
      "source": [
        "from PIL import Image\n",
        "from matplotlib import pyplot as plt\n",
        "\n",
        "fig = plt.figure(figsize=(10, 7))\n",
        "\n",
        "rows = 2\n",
        "columns = 4\n",
        "\n",
        "Image1 = Image.open('/content/drive/My Drive/TEES/Trabalho/dataset/akiec/_308_9916614.jpg').resize((150,75))\n",
        "Image2 = Image.open('/content/drive/My Drive/TEES/Trabalho/dataset/bcc/_3_9929938.jpg').resize((150,75))\n",
        "Image3 = Image.open('/content/drive/My Drive/TEES/Trabalho/dataset/bkl/_6_1275532.jpg').resize((150,75))\n",
        "Image4 = Image.open('/content/drive/My Drive/TEES/Trabalho/dataset/df/_0_4702873.jpg').resize((150,75))\n",
        "Image5 = Image.open('/content/drive/My Drive/TEES/Trabalho/dataset/mel/_15_5752787.jpg').resize((150,75))\n",
        "Image6 = Image.open('/content/drive/My Drive/TEES/Trabalho/dataset/nv/ISIC_0024341.jpg').resize((150,75))\n",
        "Image7 = Image.open('/content/drive/My Drive/TEES/Trabalho/dataset/vasc/_1_3005840.jpg').resize((150,75))\n",
        "\n",
        "fig.add_subplot(rows, columns, 1)\n",
        "\n",
        "plt.imshow(Image1)\n",
        "plt.axis('off')\n",
        "plt.title(\"carcinoma intraepitelial\")\n",
        "  \n",
        "# Adds a subplot at the 2nd position\n",
        "fig.add_subplot(rows, columns, 2)\n",
        "  \n",
        "# showing image\n",
        "plt.imshow(Image2)\n",
        "plt.axis('off')\n",
        "plt.title(\"carcinoma basocelular\")\n",
        "  \n",
        "# Adds a subplot at the 3rd position\n",
        "fig.add_subplot(rows, columns, 3)\n",
        "  \n",
        "# showing image\n",
        "plt.imshow(Image3)\n",
        "plt.axis('off')\n",
        "plt.title(\"ceratose benigna\")\n",
        "  \n",
        "# Adds a subplot at the 4th position\n",
        "fig.add_subplot(rows, columns, 4)\n",
        "  \n",
        "# showing image\n",
        "plt.imshow(Image4)\n",
        "plt.axis('off')\n",
        "plt.title(\"dermatofibroma\")\n",
        "\n",
        "# Adds a subplot at the 4th position\n",
        "fig.add_subplot(rows, columns, 5)\n",
        "  \n",
        "# showing image\n",
        "plt.imshow(Image5)\n",
        "plt.axis('off')\n",
        "plt.title(\"melanoma\")\n",
        "\n",
        "# Adds a subplot at the 4th position\n",
        "fig.add_subplot(rows, columns, 6)\n",
        "  \n",
        "# showing image\n",
        "plt.imshow(Image6)\n",
        "plt.axis('off')\n",
        "plt.title(\"nevo melanocítico\")\n",
        "\n",
        "# Adds a subplot at the 4th position\n",
        "fig.add_subplot(rows, columns, 7)\n",
        "  \n",
        "# showing image\n",
        "plt.imshow(Image7)\n",
        "plt.axis('off')\n",
        "plt.title(\"Lesao Vascular\")"
      ],
      "execution_count": null,
      "outputs": [
        {
          "output_type": "execute_result",
          "data": {
            "text/plain": [
              "Text(0.5, 1.0, 'Lesao Vascular')"
            ]
          },
          "metadata": {},
          "execution_count": 17
        },
        {
          "output_type": "display_data",
          "data": {
            "image/png": "[encoded data removed]",
            "text/plain": [
              "<Figure size 720x504 with 7 Axes>"
            ]
          },
          "metadata": {
            "needs_background": "light"
          }
        }
      ]
    },
    {
      "cell_type": "markdown",
      "metadata": {
        "id": "RNGg-aeQu5Ed"
      },
      "source": [
        "\n",
        "Definimos a rede neural com duas camadas de convolução com ativação relu e duas camadas de MaxPooling, planificamos os dados e adicionamos uma camada Dense com ativação relu e outra camada Dense com ativação Sigmoid que será a saida da rede.\n",
        "\n",
        "A escolha da saida em sigmoid se deve ao fato de sua saída ser sempre em porcentagem, variando de 0 a 1."
      ]
    },
    {
      "cell_type": "code",
      "metadata": {
        "id": "zCpG2y_b02b6"
      },
      "source": [
        "cnn = tf.keras.Sequential()\n",
        "cnn.add(tf.keras.layers.Conv2D(filters=32, kernel_size=3, activation='relu', input_shape=[255, 255, 3]))\n",
        "cnn.add(tf.keras.layers.MaxPool2D(pool_size=2, strides=2))\n",
        "\n",
        "cnn.add(tf.keras.layers.Conv2D(filters=32, kernel_size=3, activation='relu'))\n",
        "cnn.add(tf.keras.layers.MaxPool2D(pool_size=2, strides=2))\n",
        "cnn.add(Dropout(0.2))\n",
        "\n",
        "cnn.add(tf.keras.layers.Flatten())\n",
        "cnn.add(tf.keras.layers.Dense(units=128, activation='relu'))\n",
        "cnn.add(Dropout(0.4))\n",
        "\n",
        "cnn.add(tf.keras.layers.Dense(units=7, activation='sigmoid'))"
      ],
      "execution_count": null,
      "outputs": []
    },
    {
      "cell_type": "markdown",
      "metadata": {
        "id": "uYHpmOG7vdL6"
      },
      "source": [
        "\n",
        "Compilamos a rede neural, definindo o ativador, a função de perda e a métrica a ser avaliada\n",
        "\n"
      ]
    },
    {
      "cell_type": "code",
      "metadata": {
        "id": "NJSeyYqNAlQP"
      },
      "source": [
        "cnn.compile(optimizer = 'adam', loss = 'binary_crossentropy', metrics = ['accuracy'])"
      ],
      "execution_count": null,
      "outputs": []
    },
    {
      "cell_type": "markdown",
      "metadata": {
        "id": "M2FoVyR1vh90"
      },
      "source": [
        "\n",
        "Treinamento do modelo"
      ]
    },
    {
      "cell_type": "code",
      "metadata": {
        "id": "G-mNTcAsAl_L",
        "colab": {
          "base_uri": "https://localhost:8080/"
        },
        "outputId": "fd899308-6715-411e-c0cf-4e7bfbd6a7c9"
      },
      "source": [
        "cnn.fit(x = data, validation_data = data_val, epochs = 25)"
      ],
      "execution_count": null,
      "outputs": [
        {
          "output_type": "stream",
          "name": "stdout",
          "text": [
            "Epoch 1/25\n",
            "361/361 [==============================] - 240s 662ms/step - loss: 0.4028 - accuracy: 0.3107 - val_loss: 0.2869 - val_accuracy: 0.5364\n",
            "Epoch 2/25\n",
            "361/361 [==============================] - 235s 651ms/step - loss: 0.3385 - accuracy: 0.4043 - val_loss: 0.2955 - val_accuracy: 0.4767\n",
            "Epoch 3/25\n",
            "361/361 [==============================] - 237s 656ms/step - loss: 0.3220 - accuracy: 0.4432 - val_loss: 0.2615 - val_accuracy: 0.5961\n",
            "Epoch 4/25\n",
            "361/361 [==============================] - 233s 647ms/step - loss: 0.3144 - accuracy: 0.4574 - val_loss: 0.2728 - val_accuracy: 0.5505\n",
            "Epoch 5/25\n",
            "361/361 [==============================] - 229s 635ms/step - loss: 0.3125 - accuracy: 0.4580 - val_loss: 0.2811 - val_accuracy: 0.4647\n",
            "Epoch 6/25\n",
            "361/361 [==============================] - 229s 635ms/step - loss: 0.3030 - accuracy: 0.4830 - val_loss: 0.3022 - val_accuracy: 0.4267\n",
            "Epoch 7/25\n",
            "361/361 [==============================] - 232s 643ms/step - loss: 0.2984 - accuracy: 0.4973 - val_loss: 0.2636 - val_accuracy: 0.5722\n",
            "Epoch 8/25\n",
            "361/361 [==============================] - 234s 648ms/step - loss: 0.2940 - accuracy: 0.5056 - val_loss: 0.2644 - val_accuracy: 0.5548\n",
            "Epoch 9/25\n",
            "361/361 [==============================] - 235s 652ms/step - loss: 0.2934 - accuracy: 0.5106 - val_loss: 0.2271 - val_accuracy: 0.6656\n",
            "Epoch 10/25\n",
            "361/361 [==============================] - 239s 661ms/step - loss: 0.2884 - accuracy: 0.5172 - val_loss: 0.2350 - val_accuracy: 0.6374\n",
            "Epoch 11/25\n",
            "361/361 [==============================] - 241s 668ms/step - loss: 0.2819 - accuracy: 0.5353 - val_loss: 0.2522 - val_accuracy: 0.5407\n",
            "Epoch 12/25\n",
            "361/361 [==============================] - 237s 658ms/step - loss: 0.2810 - accuracy: 0.5302 - val_loss: 0.2658 - val_accuracy: 0.5592\n",
            "Epoch 13/25\n",
            "361/361 [==============================] - 239s 662ms/step - loss: 0.2755 - accuracy: 0.5427 - val_loss: 0.2455 - val_accuracy: 0.5874\n",
            "Epoch 14/25\n",
            "361/361 [==============================] - 237s 656ms/step - loss: 0.2741 - accuracy: 0.5488 - val_loss: 0.2572 - val_accuracy: 0.5516\n",
            "Epoch 15/25\n",
            "361/361 [==============================] - 239s 661ms/step - loss: 0.2718 - accuracy: 0.5532 - val_loss: 0.2342 - val_accuracy: 0.6200\n",
            "Epoch 16/25\n",
            "361/361 [==============================] - 240s 666ms/step - loss: 0.2689 - accuracy: 0.5504 - val_loss: 0.2707 - val_accuracy: 0.5559\n",
            "Epoch 17/25\n",
            "361/361 [==============================] - 241s 669ms/step - loss: 0.2667 - accuracy: 0.5675 - val_loss: 0.2324 - val_accuracy: 0.6450\n",
            "Epoch 18/25\n",
            "361/361 [==============================] - 242s 670ms/step - loss: 0.2642 - accuracy: 0.5728 - val_loss: 0.2524 - val_accuracy: 0.5972\n",
            "Epoch 19/25\n",
            "361/361 [==============================] - 243s 674ms/step - loss: 0.2633 - accuracy: 0.5698 - val_loss: 0.2470 - val_accuracy: 0.5776\n",
            "Epoch 20/25\n",
            "361/361 [==============================] - 241s 668ms/step - loss: 0.2626 - accuracy: 0.5684 - val_loss: 0.2224 - val_accuracy: 0.6645\n",
            "Epoch 21/25\n",
            "361/361 [==============================] - 241s 667ms/step - loss: 0.2586 - accuracy: 0.5790 - val_loss: 0.2471 - val_accuracy: 0.5852\n",
            "Epoch 22/25\n",
            "361/361 [==============================] - 238s 659ms/step - loss: 0.2597 - accuracy: 0.5771 - val_loss: 0.2393 - val_accuracy: 0.6026\n",
            "Epoch 23/25\n",
            "361/361 [==============================] - 237s 657ms/step - loss: 0.2541 - accuracy: 0.5864 - val_loss: 0.2535 - val_accuracy: 0.6037\n",
            "Epoch 24/25\n",
            "361/361 [==============================] - 240s 665ms/step - loss: 0.2526 - accuracy: 0.5916 - val_loss: 0.2351 - val_accuracy: 0.6243\n",
            "Epoch 25/25\n",
            "361/361 [==============================] - 239s 662ms/step - loss: 0.2534 - accuracy: 0.5886 - val_loss: 0.2011 - val_accuracy: 0.6591\n"
          ]
        },
        {
          "output_type": "execute_result",
          "data": {
            "text/plain": [
              "<keras.callbacks.History at 0x7fd530eb8a50>"
            ]
          },
          "metadata": {},
          "execution_count": 30
        }
      ]
    },
    {
      "cell_type": "code",
      "metadata": {
        "id": "1SkoNFxDVyi-",
        "colab": {
          "base_uri": "https://localhost:8080/"
        },
        "outputId": "7fa9fde1-a3c1-4ac9-d3dc-bde96a872719"
      },
      "source": [
        "\n",
        "num_of_test_samples = 921\n",
        "batch_size = 32\n",
        "\n",
        "Y_pred = cnn.predict(data_val, num_of_test_samples // batch_size+1)\n",
        "y_pred = np.argmax(Y_pred, axis=1)\n",
        "print('Confusion Matrix')\n",
        "print(confusion_matrix(data_val.classes, y_pred))\n",
        "print('Classification Report')\n",
        "target_names = ['akiec', 'bcc', 'bkl', 'df', 'mel', 'nv', 'vasc']\n",
        "print(classification_report(data_val.classes, y_pred, target_names=target_names))"
      ],
      "execution_count": null,
      "outputs": [
        {
          "output_type": "stream",
          "name": "stdout",
          "text": [
            "Confusion Matrix\n",
            "[[11 16 29 24 14 19 15]\n",
            " [ 8 15 27 25 17 12 16]\n",
            " [11 16 28 23 17  9 24]\n",
            " [12 14 29 26 13 16 18]\n",
            " [15 19 39 33 18 21 23]\n",
            " [ 9 20 28 29 18 12  7]\n",
            " [11 12 27 28  8 19 21]]\n",
            "Classification Report\n",
            "              precision    recall  f1-score   support\n",
            "\n",
            "       akiec       0.14      0.09      0.11       128\n",
            "         bcc       0.13      0.12      0.13       120\n",
            "         bkl       0.14      0.22      0.17       128\n",
            "          df       0.14      0.20      0.16       128\n",
            "         mel       0.17      0.11      0.13       168\n",
            "          nv       0.11      0.10      0.10       123\n",
            "        vasc       0.17      0.17      0.17       126\n",
            "\n",
            "    accuracy                           0.14       921\n",
            "   macro avg       0.14      0.14      0.14       921\n",
            "weighted avg       0.14      0.14      0.14       921\n",
            "\n"
          ]
        }
      ]
    },
    {
      "cell_type": "code",
      "metadata": {
        "colab": {
          "base_uri": "https://localhost:8080/"
        },
        "id": "MigKa9147jRC",
        "outputId": "9cb275e1-a5ac-4b51-c9f0-df254fb630ca"
      },
      "source": [
        "len(data)"
      ],
      "execution_count": null,
      "outputs": [
        {
          "output_type": "execute_result",
          "data": {
            "text/plain": [
              "361"
            ]
          },
          "metadata": {},
          "execution_count": 33
        }
      ]
    },
    {
      "cell_type": "markdown",
      "metadata": {
        "id": "lMLsLZPbvlsO"
      },
      "source": [
        "\n",
        "Predição de uma imagem, baseado no modelo desenvolvido."
      ]
    },
    {
      "cell_type": "code",
      "metadata": {
        "id": "X53-SYcOUeJC"
      },
      "source": [
        "test_image = image.load_img(dir+i, target_size = (255, 255))\n",
        "test_image = image.img_to_array(test_image)\n",
        "test_image = np.expand_dims(test_image, axis = 0)\n",
        "result = cnn.predict(test_image)\n",
        "data_val.class_indices\n",
        "\n",
        "if result[0][0] == 1:\n",
        "  print('Actinic keratoses and intraepithelial carcinoma(sun burn - Benign)')\n",
        "elif result[0][1] == 1:\n",
        "  print('Basal Cell Carcinoma (Malign)')\n",
        "elif result[0][2] == 1:\n",
        "  print('Benign Keratosis-like Lesions (Benign)')\n",
        "elif result[0][3] == 1:\n",
        "  print('Dermatofibroma (Benign)')\n",
        "elif result[0][4] == 1:\n",
        "  print('Melanoma (Malign)')\n",
        "elif result[0][5] == 1:\n",
        "  print('Melanocytic Nevi (Benign)')\n",
        "elif result[0][6] == 1:\n",
        "  print('Vascular Lesions (Benign)')"
      ],
      "execution_count": null,
      "outputs": []
    }
  ]
}